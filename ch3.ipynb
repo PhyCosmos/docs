{
 "cells": [
  {
   "cell_type": "markdown",
   "id": "bbfa41f4",
   "metadata": {},
   "source": [
    "# Perceptron and Neural Networks\n",
    "\n",
    "## 1. Perceptron\n",
    "\n",
    "퍼셉트론은 여러 자극을 입력받아 가공하여 출력하는 단일 신경 알고리즘이다. 다음과 같은 구조를 가진다.   \n",
    "![perceptron](./images/perceptron.png)\n",
    "\n",
    "- > $x_i$:  $i$ th input              \n",
    "  > $\\mathbf{x}^T$: transpose of the input vector  \n",
    "  > $w_i$: weight of $i$th input,   \n",
    "  > $\\mathbf{w}$: weight vector  \n",
    "  > $b$: bias  \n",
    "  > $h$: activation function  \n",
    "  > $y$: output   \n",
    "  > $y>\\theta$ 일 경우에만 신호를 출력하게 한다. ($\\theta$: threshold임계값)  \n",
    "- 자극 발생을 Voltage로 보고 그로인해 입력 x로부터 perceptron에 흐르는 전류에 대한 저항값을 weight으로 볼 수 있다.\n",
    "  $$\n",
    "    V = I \\Omega \\quad \\longleftrightarrow \\quad x\\cdot \\omega = v\n",
    "  $$  \n",
    "  이 때, 일정한 전류에 가해지는 저항이 클 수록 발생하는 전위차가 선형으로 커지는 것처럼,\n",
    "  일정한 입력값에 대한 가중치가 클 수록 수용하는 값도 커진다고 해석할 수 있다. \n",
    "  주의할 점은 음의 저항, 즉 부의 가중치도 고려할 수 있다는 점이다.\n",
    "- 가중치는 각 입력이 perceptron 반응에 미치는 *상대적* 영향력을, 편향bias은 전체적으로 얼마나 *쉽게* 반응하는지 나타내는 척도라 할 수 있다.\n",
    "- $\\mathbf{x}^T \\mathbf{w}$는 hyperplane의 level을 의미하므로 **단일** 퍼셉트론은 하이퍼플레인(2d에서는 직선)으로 분할 가능한 데이터셋(선형 데이터셋)을 분류할 수 있다.  \n",
    "- 이진 분류에서 학습한다는 의미는 $\\mathbf{w}$를 조정하여 적절한 하이퍼플레인을 찾아 데이터셋을 두 가지로 분류할 수 있음을 뜻한다. \n",
    "- 하지만, 그렇지 않은 비선형 데이터 셋은 분류 불가능한데, **다중** 퍼셉트론으로 해결할 수 있다. \n",
    "- 다중 퍼셉트론으로 `NAND` 게이트를 구현할 수 있고, 모든 논리게이트는 `NAND`게이트로 구현 가능하므로, 이론상 컴퓨터를 구현할 수 있다.\n",
    "- 더 나아가 continuous valued function인 sigmoid함수를 활성함수로 사용하면 임의의 함수를 구현할 수 있다."
   ]
  },
  {
   "cell_type": "code",
   "execution_count": 1,
   "id": "85c62836",
   "metadata": {},
   "outputs": [],
   "source": [
    "import numpy as np\n",
    "import networkx as nx\n",
    "import matplotlib.pyplot as plt\n",
    "from mpl_toolkits.mplot3d import Axes3D\n",
    "import seaborn as sns\n",
    "sns.set()"
   ]
  },
  {
   "cell_type": "markdown",
   "id": "be04e1d8",
   "metadata": {},
   "source": [
    "### 1.1 퍼셉트론의 간단한 예: Logic Gates\n",
    "\n",
    "#### attributes, parameters\n",
    "- `h`: $\\quad$    activation function 으로서 step함수를 사용했다.\n",
    "- `xw`:  $\\quad\\mathbf{x}^T \\mathbf{w}$ 로서 가중합을 의미한다.\n",
    "- `theta`: $\\quad$   threshold, 임계값\n",
    "- `b`:    $\\quad=x_0$ 로서 bias 편향"
   ]
  },
  {
   "cell_type": "code",
   "execution_count": 2,
   "id": "327c438a",
   "metadata": {},
   "outputs": [
    {
     "data": {
      "text/plain": [
       "(False, False, False, True, array([False, False, False,  True]))"
      ]
     },
     "execution_count": 2,
     "metadata": {},
     "output_type": "execute_result"
    }
   ],
   "source": [
    "def and_(x1, x2):\n",
    "    w1, w2, b, theta = 1, 1, -1.5, 0\n",
    "    x1 = np.array(x1)\n",
    "    x2 = np.array(x2)\n",
    "    xw = x1*w1 + x2*w2 + 1*b\n",
    "    h = lambda xw: xw\n",
    "    y = h(xw)\n",
    "    return  y > theta\n",
    "\n",
    "and_(0, 0), and_(1, 0), and_(0, 1), and_(1, 1), and_([0, 1, 0, 1], [0, 0, 1, 1])"
   ]
  },
  {
   "cell_type": "code",
   "execution_count": 3,
   "id": "a112f3ef",
   "metadata": {},
   "outputs": [
    {
     "data": {
      "text/plain": [
       "array([False,  True,  True,  True])"
      ]
     },
     "execution_count": 3,
     "metadata": {},
     "output_type": "execute_result"
    }
   ],
   "source": [
    "x1 = [0, 1, 0, 1]\n",
    "x2 = [0, 0, 1, 1]\n",
    "def or_(x1, x2):\n",
    "    w1, w2, b, theta = 1, 1, -0.5, 0\n",
    "    x1 = np.array(x1)\n",
    "    x2 = np.array(x2)\n",
    "    xw = x1*w1 + x2*w2 + 1*b\n",
    "    h = lambda xw: xw\n",
    "    y = h(xw)\n",
    "    return y > theta\n",
    "\n",
    "or_(x1, x2)"
   ]
  },
  {
   "cell_type": "code",
   "execution_count": 4,
   "id": "862190e2",
   "metadata": {},
   "outputs": [
    {
     "data": {
      "text/plain": [
       "(array([[[ True, False, False],\n",
       "         [False,  True, False],\n",
       "         [ True, False, False],\n",
       "         [False,  True, False]],\n",
       " \n",
       "        [[False, False,  True],\n",
       "         [False, False, False],\n",
       "         [False,  True,  True],\n",
       "         [False, False,  True]]]),\n",
       " array([[[ True, False, False],\n",
       "         [False,  True, False],\n",
       "         [ True, False, False],\n",
       "         [False,  True, False]],\n",
       " \n",
       "        [[False, False,  True],\n",
       "         [False, False, False],\n",
       "         [False,  True,  True],\n",
       "         [False, False,  True]]]))"
      ]
     },
     "execution_count": 4,
     "metadata": {},
     "output_type": "execute_result"
    }
   ],
   "source": [
    "array = np.random.randint(0, 3, (2, 4, 3))\n",
    "def not_(x1):\n",
    "    w1, w2, b, theta = -1, 1, 0.5, 0\n",
    "    x1 = np.array(x1)\n",
    "    x2 = np.zeros(x1.shape)\n",
    "    xw = x1*w1 + x2*w2 + 1*b\n",
    "    h = lambda xw: xw\n",
    "    y = h(xw)\n",
    "    return (y > theta)\n",
    "not_(array), not_(array.astype(bool))"
   ]
  },
  {
   "cell_type": "code",
   "execution_count": 5,
   "id": "0afd84d5",
   "metadata": {},
   "outputs": [
    {
     "data": {
      "text/plain": [
       "([0, 1, 0, 1],\n",
       " array([ True, False,  True, False]),\n",
       " array([[[ True, False, False],\n",
       "         [False,  True, False],\n",
       "         [ True, False, False],\n",
       "         [False,  True, False]],\n",
       " \n",
       "        [[False, False,  True],\n",
       "         [False, False, False],\n",
       "         [False,  True,  True],\n",
       "         [False, False,  True]]]))"
      ]
     },
     "execution_count": 5,
     "metadata": {},
     "output_type": "execute_result"
    }
   ],
   "source": [
    "def not_(x):\n",
    "    x = 1- np.array(x).astype(bool)\n",
    "    return x.astype(bool) \n",
    "x1, not_(x1), not_(array.astype(bool))"
   ]
  },
  {
   "cell_type": "markdown",
   "id": "90d8d1c6",
   "metadata": {},
   "source": [
    "### 1.2 Affine Matrix 곱으로 변환하기\n",
    "- bias 항을 따로 계한하는 대신 $x_0=1$, $w_0=b$로 두고 한꺼번에 행렬 계산하는 것이 유리할 수 있다.  \n",
    "  \n",
    "$$\\mathbf{x} = \\begin{bmatrix}\n",
    "1 \\\\\n",
    "x_0 \\\\\n",
    "x_1\n",
    "\\end{bmatrix}, \\quad \\mathbf{w} = \\begin{bmatrix}\n",
    "b \\\\\n",
    "w_1 \\\\\n",
    "w_2\n",
    "\\end{bmatrix}, \\quad \\mathbf{x}^T \\mathbf{w} = \\begin{bmatrix}\n",
    "1 & x_0 & x_1 \\end{bmatrix} \\begin{bmatrix}\n",
    "b \\\\\n",
    "w_0 \\\\\n",
    "w_1\n",
    "\\end{bmatrix}$$  \n",
    "\n",
    "- input이 여럿(레코드가 다수)일 경우, $\\mathbf{x}T$를 `vstack`하여 $\\mathbf{X}$를 구성한다.  \n",
    "- output이 여럿(label이 다수)일 경우, $\\mathbf{w}$를 `hstack`하여 $\\mathbf{W}$를 구성한다.\n",
    "$$\\mathbf{X} = \\begin{bmatrix}\n",
    " & \\vdots &  \\\\\n",
    "\\text{---} & \\mathbf{x_i}^T & \\text{---} \\\\\n",
    " & \\vdots &  \\\\\n",
    "\\end{bmatrix}, \\quad \\mathbf{W}= \\begin{bmatrix}\n",
    "& \\vert & \\\\\n",
    "\\ldots& \\mathbf{w_j} & \\ldots \\\\\n",
    "& \\vert& \\end{bmatrix}, \\quad \\mathbf{X}\\mathbf{W} = \\begin{bmatrix}\n",
    " & \\vdots &  \\\\\n",
    "\\text{---} & \\mathbf{x_i}^T & \\text{---} \\\\\n",
    " & \\vdots &  \\\\\n",
    "\\end{bmatrix} \\begin{bmatrix}\n",
    "& \\vert & \\\\\n",
    "\\ldots& \\mathbf{w_j} & \\ldots \\\\\n",
    "& \\vert& \\end{bmatrix} $$  \n",
    "\n",
    "- 따라서 $\\mathbf{X}$ 의 `shape`은 `(레코드 수, 특성 수)`, $\\mathbf{W}$ 의 `shape`은 `(특성 수, output 수)`가 된다.\n",
    "  > r records, f features(bias 항도 포함한 숫자일 때), t outputs 이면,\n",
    "  > `(r, f)` $\\times$ `(f, t)` $\\rightarrow$ `(r, t)`\n",
    "\n",
    "- NAND 게이트의 경우, [`True-T-1`]와 [`False-F-0`], 그리고 bias를 포함하는 세 가지 feature를 입력값으로 받고,  \n",
    "  (F, T), (T, T), (F, F), (T, F) 의 4개 경우를 판단해야 하므로 4 records,  \n",
    "  `T` 또는 `F`로 결과를 판단하게 되므로 1 output을 낸다. 즉,  \n",
    "  4 records, 3 features, 1 output 이므로, `X.shape` = (4, 3), `W.shape` = (3, 1)\n",
    "  ```python\n",
    "  w_ = [b, w1, w2]\n",
    "  x0 = np.ones(4)\n",
    "  X = np.vstack([x0, x1, x2]).T\n",
    "  xw = X.dot(w_) \n",
    "  ```\n",
    "#### attributes, parameters\n",
    "- `w_`: $\\quad$ $\\mathbf{w}$, bias를 첫번째 엘리먼트로하여 구성된 weight vector(column벡터)\n",
    "- `X`: $\\quad$  $\\mathbf{X}$, 즉 `1`을 첫번째 특성으로하는 $\\mathbf{x}^T$ 들(row벡터들)을 vstack시켜 구성한 input matrix. \n",
    "- `xw`: $\\quad$ $\\mathbf{X}\\cdot \\mathbf{w}$ "
   ]
  },
  {
   "cell_type": "code",
   "execution_count": 6,
   "id": "c0e11aa9",
   "metadata": {},
   "outputs": [
    {
     "data": {
      "text/plain": [
       "([1.5, -1, -1],\n",
       " array([[1., 0., 0.],\n",
       "        [1., 1., 0.],\n",
       "        [1., 0., 1.],\n",
       "        [1., 1., 1.]]))"
      ]
     },
     "execution_count": 6,
     "metadata": {},
     "output_type": "execute_result"
    }
   ],
   "source": [
    "w1, w2, b, theta = -1, -1, 1.5, 0\n",
    "w_ = [b, w1, w2]\n",
    "\n",
    "x0 = np.ones(4)\n",
    "X = np.vstack([x0, x1, x2]).T\n",
    "w_, X\n",
    "# xw = X.dot(w_)"
   ]
  },
  {
   "cell_type": "code",
   "execution_count": 7,
   "id": "284c3d2d",
   "metadata": {},
   "outputs": [
    {
     "data": {
      "text/plain": [
       "array([ True,  True,  True, False])"
      ]
     },
     "execution_count": 7,
     "metadata": {},
     "output_type": "execute_result"
    }
   ],
   "source": [
    "def nand_(x1, x2):\n",
    "    w1, w2, b, theta = -1, -1, 1.5, 0\n",
    "    w_ = [b, w1, w2]\n",
    "    \n",
    "    x0 = np.ones(4)\n",
    "    X = np.vstack([x0, x1, x2]).T\n",
    "    \n",
    "    xw = X.dot(w_)\n",
    "    h = lambda xw: xw\n",
    "    y = h(xw)\n",
    "    return  y > theta\n",
    "\n",
    "nand_(x1, x2)"
   ]
  },
  {
   "cell_type": "code",
   "execution_count": 8,
   "id": "4fac4cf0",
   "metadata": {},
   "outputs": [
    {
     "data": {
      "text/plain": [
       "array([ True,  True,  True, False])"
      ]
     },
     "execution_count": 8,
     "metadata": {},
     "output_type": "execute_result"
    }
   ],
   "source": [
    "# 같은 결과를  내놓고 있다.\n",
    "def nand_(x1, x2):\n",
    "    return np.logical_not(and_(x1, x2))\n",
    "\n",
    "nand_(x1, x2)"
   ]
  },
  {
   "cell_type": "code",
   "execution_count": 9,
   "id": "dbf86011",
   "metadata": {},
   "outputs": [
    {
     "data": {
      "text/plain": [
       "array([ True, False, False, False])"
      ]
     },
     "execution_count": 9,
     "metadata": {},
     "output_type": "execute_result"
    }
   ],
   "source": [
    "def nor_(x1, x2):\n",
    "    return np.logical_not(or_(x1, x2))\n",
    "\n",
    "def nor_(x1, x2):\n",
    "    w1, w2, b, theta = -1, -1, 0.5, 0\n",
    "    w_ = [b, w1, w2]\n",
    "    x0 = np.ones(4)\n",
    "    X = np.vstack([x0, x1, x2]).T\n",
    "    xw = X.dot(w_)\n",
    "    h = lambda xw: xw\n",
    "    y = h(xw)\n",
    "    return y > theta\n",
    "\n",
    "nor_(x1, x2)     "
   ]
  },
  {
   "cell_type": "code",
   "execution_count": 10,
   "id": "35bd6961",
   "metadata": {},
   "outputs": [
    {
     "data": {
      "image/png": "[encoded data removed]",
      "text/plain": [
       "<Figure size 640x480 with 4 Axes>"
      ]
     },
     "metadata": {},
     "output_type": "display_data"
    }
   ],
   "source": [
    "%matplotlib inline\n",
    "\n",
    "pts = np.vstack([x1, x2])\n",
    "results = [and_(*pts), nand_(*pts), or_(*pts), nor_(*pts)]\n",
    "b = [1.5, 1.5, 0.5, 0.5]\n",
    "titles = ['AND', 'NAND', 'OR', 'NOR']\n",
    "x = np.linspace(-.2, 1.2)\n",
    "\n",
    "\n",
    "fig, axes = plt.subplots(1, 4, sharey=True)\n",
    "\n",
    "for i in range(4):\n",
    "    axes[i].scatter(*pts.T[results[i]].T, color='green')\n",
    "    axes[i].scatter(*pts.T[np.logical_not(results[i])].T, color='red', marker='x')\n",
    "    axes[i].plot(x,  b[i] - x, 'b--')\n",
    "    axes[i].set_aspect('equal', 'box')\n",
    "    axes[i].set_title(titles[i])\n",
    "    axes[i].set_ylim(-0.2, 1.2)\n",
    "\n",
    "plt.show()"
   ]
  },
  {
   "cell_type": "code",
   "execution_count": 11,
   "id": "19b0d8d2",
   "metadata": {},
   "outputs": [
    {
     "data": {
      "text/plain": [
       "(array([False,  True,  True, False]), array([False,  True,  True, False]))"
      ]
     },
     "execution_count": 11,
     "metadata": {},
     "output_type": "execute_result"
    }
   ],
   "source": [
    "# (NAND) AND (OR) = XOR\n",
    "def xor_(x1, x2):\n",
    "    return and_(nand_(x1, x2), or_(x1, x2))\n",
    "\n",
    "x1 = np.array(x1)\n",
    "x2 = np.array(x2)\n",
    "xor_(x1, x2), xor_(x1.astype(bool), x2.astype(bool)) # 입력이 int이든 bool이든 상관없이 계산된다."
   ]
  },
  {
   "cell_type": "code",
   "execution_count": 12,
   "id": "d3c932bf",
   "metadata": {},
   "outputs": [
    {
     "data": {
      "image/png": "[encoded data removed]",
      "text/plain": [
       "<Figure size 640x480 with 4 Axes>"
      ]
     },
     "metadata": {},
     "output_type": "display_data"
    }
   ],
   "source": [
    "%matplotlib inline\n",
    "def xnor_(x1, x2):\n",
    "    return not_(xor_(x1, x2))\n",
    "\n",
    "results = [xor_(*pts), xnor_(*pts)]\n",
    "b = [1.5, 0.5]\n",
    "titles = ['XOR', 'XNOR']\n",
    "pts = pts.astype(bool)\n",
    "fig, axes = plt.subplots(1, 4, sharey=True)\n",
    "\n",
    "for i in range(2):\n",
    "    axes[i].scatter(*pts.T[results[i]].T, color='green')\n",
    "    axes[i].scatter(*pts.T[np.logical_not(results[i])].T, color='red', marker='x')\n",
    "    axes[i].plot(x,  b[0] - x, 'b--')\n",
    "    axes[i].plot(x,  b[1] - x, 'b--')\n",
    "    axes[i].set_aspect('equal', 'box')\n",
    "    axes[i].set_title(titles[i])\n",
    "    axes[i].set_ylim(-0.2, 1.2)\n",
    "\n",
    "axes[-2].scatter(*pts.T[not_(pts[0])].T, color='green')\n",
    "axes[-2].scatter(*pts.T[not_(not_(pts[0]))].T, color='red', marker='x')\n",
    "axes[-2].plot(x, -0.5 + 2*x, 'b--')\n",
    "axes[-2].set_aspect('equal', 'box')\n",
    "axes[-2].set_title('NOT for $x_1$')\n",
    "\n",
    "axes[-1].scatter(*pts.T[(pts[0])].T, color='green')\n",
    "axes[-1].scatter(*pts.T[not_(pts[0])].T, color='red', marker='x')\n",
    "axes[-1].plot(x, -0.5 + 2*x, 'b--')\n",
    "axes[-1].set_aspect('equal', 'box')\n",
    "axes[-1].set_title('$x_1(ID)$')\n",
    "\n",
    "plt.show()"
   ]
  },
  {
   "cell_type": "markdown",
   "id": "15fee0bb",
   "metadata": {},
   "source": [
    "### 1.2 Activation Function활성화 함수\n",
    "지금까지 Logic perceptron에 사용한 활성화함수 $h(x) = x$는 항등함수이자, (threshold $\\theta$룰 적용하므로) step function이었다.   \n",
    "\n",
    "활성화함수는 퍼셉트론이 반응을 어떻게 하는지 그 특징을 규정한다고도 할 수 있어 다양한 활성화 함수가 사용되고 있다.\n",
    "\n",
    "- Step function:\n",
    "$$\n",
    "h(x) = \\begin{cases}\n",
    "1, & \\text{ if } x > 0, \\\\\n",
    "0, & \\text{otherwise}.\n",
    "\\end{cases}$$  \n",
    "- ReLU :\n",
    "$$\n",
    "h(x) = \\begin{cases}\n",
    "x, & \\text{ if } x > 0, \\\\\n",
    "0, & \\text{otherwise}. \n",
    "\\end{cases}$$\n",
    "- Sigmoid:\n",
    "$$\n",
    "h(x) = \\frac{1}{1 + e^{-x}}\n",
    "$$  \n",
    "- Hyperbolic tangent:\n",
    "$$\n",
    "h(x) = \\frac{e^x - e^{-x}}{e^x + e^{-x}}\n",
    "$$\n",
    "- Softmax: \n",
    "    - $\\quad$ 주로 출력노드 퍼셉트론에 사용되어 출력값들의 지수적 확률 분포를 구하는 함수로,   \n",
    "    - $\\quad$ 지수증가하는 $e^z$의 overflow를 방지하고자 다음처럼 상수 $C$를 도입하여 쓴다.\n",
    "$$\n",
    "\\sigma(\\mathbf{z_j}) = \\frac{e^{z_j}}{\\sum\\limits_{k} e^{z_k}} = \\frac{e^{(z_j-C)}}{\\sum\\limits_{k} e^{(z_k-C)}}, \\quad \\text{where  } C=\\max\\limits_{k}\\{z_k\\} \n",
    "$$"
   ]
  },
  {
   "cell_type": "code",
   "execution_count": 13,
   "id": "ed1cd47a",
   "metadata": {},
   "outputs": [
    {
     "data": {
      "text/plain": [
       "(array([[1, 1, 1, 0],\n",
       "        [1, 0, 0, 0],\n",
       "        [1, 0, 1, 0]]),\n",
       " array([[3, 5, 6, 0],\n",
       "        [4, 0, 0, 0],\n",
       "        [5, 0, 4, 0]]),\n",
       " array([[9.52574127e-01, 9.93307149e-01, 9.97527377e-01, 1.23394576e-04],\n",
       "        [9.82013790e-01, 1.23394576e-04, 6.69285092e-03, 5.00000000e-01],\n",
       "        [9.93307149e-01, 9.11051194e-04, 9.82013790e-01, 1.79862100e-02]]),\n",
       " array([[ 0.99505475,  0.9999092 ,  0.99998771, -0.99999997],\n",
       "        [ 0.9993293 , -0.99999997, -0.9999092 ,  0.        ],\n",
       "        [ 0.9999092 , -0.99999834,  0.9993293 , -0.9993293 ]]),\n",
       " 1.0000000000000002)"
      ]
     },
     "execution_count": 13,
     "metadata": {},
     "output_type": "execute_result"
    }
   ],
   "source": [
    "def step(x):\n",
    "    x = np.array(x)\n",
    "    x = x > 0\n",
    "    return x.astype(int)\n",
    "\n",
    "def relu(x):\n",
    "    x = np.array(x)\n",
    "    return np.maximum(0, x)\n",
    "\n",
    "def sigmoid(x):\n",
    "    x = np.array(x)\n",
    "    return 1/(1 + np.exp(-x))\n",
    "\n",
    "def tanh(x):\n",
    "    x = np.array(x)\n",
    "    x1 = np.exp(x)\n",
    "    x0 = np.exp(-x)\n",
    "    return (x1-x0)/(x1 + x0)\n",
    "\n",
    "def softmax(z):\n",
    "    z = np.array(z)\n",
    "    ex = np.exp(z)\n",
    "    return ex/np.sum(ex)\n",
    "\n",
    "def softmax(z):\n",
    "    z = np.array(z)\n",
    "    c = np.max(z)\n",
    "    ex = np.exp(z - c)\n",
    "    return ex/np.sum(ex)\n",
    "\n",
    "\n",
    "z = np.random.randint(-9, 10, (3, 4))\n",
    "step(z), relu(z), sigmoid(z), tanh(z), np.sum(softmax(z))"
   ]
  },
  {
   "cell_type": "code",
   "execution_count": 14,
   "id": "053aecae",
   "metadata": {},
   "outputs": [
    {
     "data": {
      "image/png": "[encoded data removed]",
      "text/plain": [
       "<Figure size 1000x200 with 5 Axes>"
      ]
     },
     "metadata": {},
     "output_type": "display_data"
    }
   ],
   "source": [
    "x = np.linspace(-5, 5, 100)\n",
    "funcs = [step, relu, sigmoid, tanh, softmax]\n",
    "titles = ['Step', 'ReLU', 'Sigmoid', 'tanh', 'Softmax']\n",
    "\n",
    "fig, axes = plt.subplots(1, 5, figsize=(10, 2), sharey=True)\n",
    "\n",
    "for i, axis in enumerate(axes):\n",
    "    if i < 4:\n",
    "        axis.set_xlim(-5, 5)\n",
    "    else:\n",
    "        x = np.linspace(-50, 50, 100)\n",
    "        axis.set_xlim(40, 50)\n",
    "        \n",
    "    axis.plot(x, funcs[i](x))\n",
    "    axis.set_aspect('auto', 'box')\n",
    "    axis.set_title(titles[i])\n",
    "    axis.set_ylim(-1, 2)\n",
    "    axis.set_yticks([-1, 0, 1, 2])\n",
    "plt.show()    "
   ]
  },
  {
   "cell_type": "markdown",
   "id": "2e459d41",
   "metadata": {},
   "source": [
    "## 2. Neural Network\n",
    "- 연결된 perceptron의 집합을 신경망,Neural Network, NN으로 부른다.\n",
    "- 데이터가 n번째로 거쳐가는 perceptron의 집합을 nth-layer라 부른다.\n",
    "- NN에서 가장 큰 n=L 에 대하여, 그 NN을 L-layered NN으로 부른다.\n",
    "- XOR, XNOR 게이트는 2-layered NN 이고, AND, OR, NOT, NAND, NOR, ID는 1-layered NN 이다. 다음 도식을 보면,\n",
    "- 최종레이어인 출력 레이어(4)와 입력값을 받는 입력레이어(1)를 제외하고 나머지는 hidden layer라고 부른다. (0은 레이어가 아니다.)"
   ]
  },
  {
   "cell_type": "code",
   "execution_count": 15,
   "id": "1aef3735",
   "metadata": {},
   "outputs": [
    {
     "data": {
      "image/png": "[encoded data removed]",
      "text/plain": [
       "<Figure size 400x400 with 1 Axes>"
      ]
     },
     "metadata": {},
     "output_type": "display_data"
    }
   ],
   "source": [
    "# plot multipartite graph\n",
    "# https://networkx.org/documentation/stable/auto_examples/drawing/plot_multipartite_graph.html#sphx-glr-auto-examples-drawing-plot-multipartite-graph-py\n",
    "\n",
    "import itertools\n",
    "import matplotlib.pyplot as plt\n",
    "import networkx as nx\n",
    "\n",
    "subset_sizes = [5, 6, 2, 4, 3]\n",
    "subset_color = [\n",
    "    \"tomato\",\n",
    "    \"limegreen\",\n",
    "    \"limegreen\",\n",
    "    \"limegreen\",\n",
    "    \"green\",\n",
    "]\n",
    "options = {\n",
    "    \"font_size\": 11,\n",
    "    \"node_size\": 1000,\n",
    "    # \"node_color\": \"pink\",\n",
    "    \"edgecolors\": \"black\",\n",
    "    \"linewidths\": 0.2,\n",
    "    \"width\": 1,\n",
    "    # \"alpha\": 0.7,\n",
    "}\n",
    "\n",
    "\n",
    "def multilayered_graph(*subset_sizes):\n",
    "    extents = nx.utils.pairwise(itertools.accumulate((0,) + subset_sizes))\n",
    "    layers = [range(start, end) for start, end in extents] # [range(0, 5), range(5, 11), range(11, 13), range(13, 17), range(17, 20)]\n",
    "    G = nx.Graph()\n",
    "    for (i, layer) in enumerate(layers):\n",
    "        G.add_nodes_from(layer, layer=i)    \n",
    "    \n",
    "    # print(G.nodes.data(True)) [(0, {'layer': 0}), (5, {'layer': 1}),..., (11, {'layer': 2}),...,(17, {'layer': 4}),..., {'layer': 4})]\n",
    "    \n",
    "    for layer1, layer2 in nx.utils.pairwise(layers):\n",
    "        G.add_edges_from(itertools.product(layer1, layer2)) # [(0, 5), (0, 6),...\n",
    "    return G\n",
    "\n",
    "\n",
    "G = multilayered_graph(*subset_sizes)\n",
    "color = [subset_color[data[\"layer\"]] for v, data in G.nodes(data=True)]  # (0, {'layer': 0})  --> v=0, data={'layer': 0}\n",
    "pos = nx.multipartite_layout(G, subset_key=\"layer\")\n",
    "labels = nx.get_node_attributes(G, 'layer')\n",
    "plt.figure(figsize=(4, 4))\n",
    "nx.draw(G, pos,labels=labels, node_color=color, with_labels=True, **options)\n",
    "plt.title('4-layered full connected neural network')\n",
    "plt.axis(\"equal\")\n",
    "plt.show()"
   ]
  },
  {
   "cell_type": "markdown",
   "id": "6e16d2a9",
   "metadata": {},
   "source": [
    "### 2.1 분류 NN: MNIST\n",
    "0 ~ 9 아라비아 숫자의 손글씨 데이터인 MNIST 데이터를 레이블에 맞게 분류하는 NN을 구현해 본다.\n",
    "\n",
    "#### 2.1.1 데이터 수집 및 적재."
   ]
  },
  {
   "cell_type": "code",
   "execution_count": 16,
   "id": "5d427408-bcb3-40f8-9aff-9055f723d8f0",
   "metadata": {},
   "outputs": [
    {
     "name": "stderr",
     "output_type": "stream",
     "text": [
      "/tmp/ipykernel_17894/2937802838.py:5: DeprecationWarning: The symbol module is deprecated and will be removed in future versions of Python\n",
      "  from symbol import file_input\n"
     ]
    }
   ],
   "source": [
    "import os\n",
    "import gzip\n",
    "import pickle\n",
    "from urllib.request import urljoin, urlretrieve\n",
    "from symbol import file_input\n",
    "from tkinter import image_names"
   ]
  },
  {
   "cell_type": "code",
   "execution_count": 17,
   "id": "70fb2d2a",
   "metadata": {},
   "outputs": [],
   "source": [
    "# constants \n",
    "url_base = \"http://yann.lecun.com/exdb/mnist/\"\n",
    "files_dict = {                      # 해당 사이트에 있는 데이터 파일들 목록이다.\n",
    "    \"train_img\": \"train-images-idx3-ubyte.gz\",\n",
    "    \"train_label\": \"train-labels-idx1-ubyte.gz\",\n",
    "    \"test_img\": \"t10k-images-idx3-ubyte.gz\",\n",
    "    \"test_label\": \"t10k-labels-idx1-ubyte.gz\",\n",
    "}\n",
    "dataset_dir = \"./dataset/\"  # 데이터를 저장할 디렉토리\n",
    "save_file = os.path.join(*dataset_dir.split(\"/\"), \"mnist.pkl\") # 데이터를 저장할 파일 path.\n",
    "train_num = 60000      # 훈련 데이터 수\n",
    "test_num = 10000       # 테스트 데이터 수\n",
    "img_dim = (1, 28, 28)   # (1, height, width) 으로 주의한다.\n",
    "img_size = 784          # 1*28*28"
   ]
  },
  {
   "cell_type": "code",
   "execution_count": 18,
   "id": "d7d41dc4",
   "metadata": {},
   "outputs": [
    {
     "name": "stdout",
     "output_type": "stream",
     "text": [
      "Skipped, for train-images-idx3-ubyte.gz already exists.\n",
      "Skipped, for train-labels-idx1-ubyte.gz already exists.\n",
      "Skipped, for t10k-images-idx3-ubyte.gz already exists.\n",
      "Skipped, for t10k-labels-idx1-ubyte.gz already exists.\n"
     ]
    }
   ],
   "source": [
    "# 1. download data to files\n",
    "def _download(file_name):\n",
    "    saving_path = os.path.join(*dataset_dir.split(\"/\"), file_name) \n",
    "    \n",
    "    if os.path.exists(saving_path):\n",
    "        print(f\"Skipped, for {file_name} already exists.\")\n",
    "        return None\n",
    "\n",
    "    print(\"Downloading \" + file_name + \" ...\", end=\" \" )\n",
    "    urlretrieve(urljoin(url_base, file_name), saving_path)\n",
    "    print(\"Done.\")\n",
    "\n",
    "def download_mnist():\n",
    "    for f in files_dict.values():\n",
    "        _download(f)\n",
    "\n",
    "download_mnist()"
   ]
  },
  {
   "cell_type": "code",
   "execution_count": 19,
   "id": "21324119",
   "metadata": {},
   "outputs": [
    {
     "name": "stdout",
     "output_type": "stream",
     "text": [
      "Converting train-images-idx3-ubyte.gz to NumPy Array ...\n",
      "Done\n",
      "Converting train-labels-idx1-ubyte.gz to NumPy Array ...\n",
      "Done\n"
     ]
    },
    {
     "data": {
      "text/plain": [
       "((60000, 784), (60000,))"
      ]
     },
     "execution_count": 19,
     "metadata": {},
     "output_type": "execute_result"
    }
   ],
   "source": [
    "# 2. load data from files\n",
    "def _load(data):\n",
    "\n",
    "    def wrapper(file_name):\n",
    "        print(\"Converting \" + file_name + \" to NumPy Array ...\")\n",
    "        result = data(file_name)\n",
    "        print(\"Done\")\n",
    "        return result\n",
    "\n",
    "    return wrapper\n",
    "\n",
    "@_load\n",
    "def _img(file_name):\n",
    "    saving_path = os.path.join(*dataset_dir.split(\"/\"), file_name) \n",
    "    with gzip.open(saving_path, 'rb') as f:\n",
    "        images =  np.frombuffer(f.read(), np.uint8, offset=16)\n",
    "    images = images.reshape(-1, img_size)\n",
    "    return images\n",
    "\n",
    "@_load\n",
    "def _label(file_name):\n",
    "    saving_path = os.path.join(*dataset_dir.split(\"/\"), file_name) \n",
    "    with gzip.open(saving_path, 'rb') as f:\n",
    "        labels =  np.frombuffer(f.read(), np.uint8, offset=8)\n",
    "    return labels\n",
    "  \n",
    "\n",
    "_img(\"train-images-idx3-ubyte.gz\").shape, _label(\"train-labels-idx1-ubyte.gz\").shape"
   ]
  },
  {
   "cell_type": "code",
   "execution_count": 20,
   "id": "cb622c2e",
   "metadata": {},
   "outputs": [
    {
     "name": "stdout",
     "output_type": "stream",
     "text": [
      "Converting train-images-idx3-ubyte.gz to NumPy Array ...\n",
      "Done\n",
      "Converting train-labels-idx1-ubyte.gz to NumPy Array ...\n",
      "Done\n",
      "Converting t10k-images-idx3-ubyte.gz to NumPy Array ...\n",
      "Done\n",
      "Converting t10k-labels-idx1-ubyte.gz to NumPy Array ...\n",
      "Done\n"
     ]
    },
    {
     "data": {
      "text/plain": [
       "dict_keys(['train_img', 'train_label', 'test_img', 'test_label'])"
      ]
     },
     "execution_count": 20,
     "metadata": {},
     "output_type": "execute_result"
    }
   ],
   "source": [
    "# 3. convert loaded data to a dict of numpy arrays\n",
    "def _convert_to_array_dict():\n",
    "    dataset = {}\n",
    "    dataset[\"train_img\"] = _img(files_dict[\"train_img\"])\n",
    "    dataset[\"train_label\"] = _label(files_dict[\"train_label\"])\n",
    "    dataset[\"test_img\"] = _img(files_dict[\"test_img\"])\n",
    "    dataset[\"test_label\"] = _label(files_dict[\"test_label\"])\n",
    "\n",
    "    return dataset\n",
    "\n",
    "dataset = _convert_to_array_dict()\n",
    "dataset.keys()"
   ]
  },
  {
   "cell_type": "code",
   "execution_count": 21,
   "id": "99fc7cce",
   "metadata": {},
   "outputs": [
    {
     "name": "stdout",
     "output_type": "stream",
     "text": [
      "Skipped, for train-images-idx3-ubyte.gz already exists.\n",
      "Skipped, for train-labels-idx1-ubyte.gz already exists.\n",
      "Skipped, for t10k-images-idx3-ubyte.gz already exists.\n",
      "Skipped, for t10k-labels-idx1-ubyte.gz already exists.\n",
      "Converting train-images-idx3-ubyte.gz to NumPy Array ...\n",
      "Done\n",
      "Converting train-labels-idx1-ubyte.gz to NumPy Array ...\n",
      "Done\n",
      "Converting t10k-images-idx3-ubyte.gz to NumPy Array ...\n",
      "Done\n",
      "Converting t10k-labels-idx1-ubyte.gz to NumPy Array ...\n",
      "Done\n",
      "Creating pickle file ... Done.\n"
     ]
    }
   ],
   "source": [
    "# 4. save to pickle files.\n",
    "def mnist_to_pickle():\n",
    "    download_mnist()\n",
    "    dataset = _convert_to_array_dict()\n",
    "    print(\"Creating pickle file ...\", end=\" \")\n",
    "    with open(save_file, 'wb') as f:\n",
    "        pickle.dump(dataset, f, -1) # pickle.HIGHEST_PROTOCOL ? -1\n",
    "    print(\"Done.\")\n",
    "\n",
    "\n",
    "mnist_to_pickle()"
   ]
  },
  {
   "cell_type": "code",
   "execution_count": 22,
   "id": "e91cbc29",
   "metadata": {},
   "outputs": [],
   "source": [
    "# 5. load mnist data from the saved pickle file.\n",
    "def _to_one_hot_label(X):       # X = [5, 7, ...]\n",
    "    T = np.zeros((X.size, 10))  # train (60000, 10), test (10000, 10)\n",
    "    for i, row in enumerate(T):\n",
    "        row[X[i]] = 1           # i=0th row: [0,0,0,0,0,1,0,...], X[i]=5\n",
    "\n",
    "    return T\n",
    "\n",
    "def load_mnist(normalize=True, flatten=True, one_hot_label=False):\n",
    "    \"\"\" MNIST Data Loading\n",
    "\n",
    "    Parameters\n",
    "    ----------\n",
    "    normalize: 0~255의 이미지 픽셀 컬러값들을 0.0 ~ 1.0 사이의 값으로 정규화.\n",
    "    one_hot_label: \n",
    "        True: One-hot label로 반환.\n",
    "            즉, 3을 나타내는 [0, 0, 0, 1, 0, 0, 0, 0, 0, 0] 처럼 한 원소만\n",
    "            1이고 나머지는 0 인 배열이다.\n",
    "    flatten: 입력 이미지를 28x28 이 아닌 784 인 1차원 배열로 만든다.\n",
    "\n",
    "    Returns\n",
    "    -------\n",
    "    (훈련 이미지, 훈련 레이블), (시험 이미지, 시험 레이블)    \n",
    "    \"\"\"\n",
    "    if not os.path.exists(save_file):\n",
    "        mnist_to_pickle()\n",
    "\n",
    "    with open(save_file, \"rb\") as f:\n",
    "        dataset = pickle.load(f)\n",
    "\n",
    "    if normalize:\n",
    "        for key in (\"train_img\", \"test_img\"):\n",
    "            dataset[key] = dataset[key].astype(np.float32)\n",
    "            dataset[key] /= 255.0\n",
    "\n",
    "    if one_hot_label:\n",
    "        dataset[\"train_label\"] = _to_one_hot_label(dataset[\"train_label\"])\n",
    "        dataset[\"test_label\"] = _to_one_hot_label(dataset[\"test_label\"])\n",
    "    \n",
    "    if not flatten:\n",
    "        for key in (\"train_img\", \"test_img\"):\n",
    "            dataset[key] = dataset[key].reshape(-1, 1, 28, 28)\n",
    "            \n",
    "    return (dataset[\"train_img\"], dataset[\"train_label\"]), \\\n",
    "        (dataset[\"test_img\"], dataset[\"test_label\"])"
   ]
  },
  {
   "cell_type": "code",
   "execution_count": 23,
   "id": "01cb14d3",
   "metadata": {},
   "outputs": [
    {
     "data": {
      "text/plain": [
       "(1, 28, 28)"
      ]
     },
     "execution_count": 23,
     "metadata": {},
     "output_type": "execute_result"
    }
   ],
   "source": [
    "(x_train, t_train), (x_test, t_test) = load_mnist(normalize=False, flatten=False, one_hot_label=False)\n",
    "x_train[0].shape"
   ]
  },
  {
   "cell_type": "markdown",
   "id": "99bbc287",
   "metadata": {},
   "source": [
    "#### 2.1.2 데이터 살펴보기\n",
    "- 28 x 28 = 784 pixels의 gray 이미지\n",
    "- 각 픽셀은 0 ~ 255, 즉 $2^8=256$ 8bit=1byte값을 가진다.\n",
    "- 이미지 하나당 해당 인덱스와 대응하는 레이블에 정답 숫자가 저장되어있다.\n",
    "- 0 ~ 9 로 10진 분류를 하게 된다.\n",
    "- flatten, normalize, one-hot-encoding 옵션을 설정하여 데이터를 가공할 수 있다."
   ]
  },
  {
   "cell_type": "code",
   "execution_count": 24,
   "id": "17dd05f7",
   "metadata": {},
   "outputs": [
    {
     "data": {
      "image/png": "[encoded data removed]",
      "text/plain": [
       "<Figure size 640x480 with 1 Axes>"
      ]
     },
     "metadata": {},
     "output_type": "display_data"
    }
   ],
   "source": [
    "plt.imshow(x_train[0][0])\n",
    "plt.grid(False)\n",
    "plt.show()"
   ]
  },
  {
   "cell_type": "markdown",
   "id": "d05b4b8f",
   "metadata": {},
   "source": [
    "#### "
   ]
  },
  {
   "cell_type": "markdown",
   "id": "b33406c2",
   "metadata": {},
   "source": [
    "#### 2.1.3 분류를 위한 신경망 구성하기\n",
    "\n",
    "- 신경망을 클래스화하여 속성/기능을 모아놓자.\n",
    "- 입력/히든/출력 1)레이어를 구현한다.\n",
    "- 우선 순전파 과정을 구현한다. 즉, 2)predict함수, 3)accuracy만을 구현하고 학습과정은 제외한다.\n",
    "  "
   ]
  },
  {
   "cell_type": "code",
   "execution_count": 25,
   "id": "0b337eb8",
   "metadata": {},
   "outputs": [
    {
     "data": {
      "text/plain": [
       "array([[0.40625907, 0.59374093]])"
      ]
     },
     "execution_count": 25,
     "metadata": {},
     "output_type": "execute_result"
    }
   ],
   "source": [
    "# Stub class\n",
    "class Network:\n",
    "    def __init__(self):\n",
    "        self.network = {}\n",
    "        self.network['W1'] = np.array([[0.1, 0.2, 0.3], [0.1, 0.3, 0.5], [0.2, 0.4, 0.6]])\n",
    "        self.network['W2'] = np.array([[0.1, 0.2], [0.1, 0.4], [0.2, 0.5], [0.3, 0.6]])\n",
    "        self.network['W3'] = np.array([[0.1, 0.2], [0.1, 0.3], [0.2, 0.4]])\n",
    "\n",
    "    def _affine(self, X):\n",
    "        features = X.shape[-1]\n",
    "        X = X.reshape(int(X.size/features), features) # inputted vector or matrix to matrix\n",
    "        ones = np.ones((X.shape[0],1))       # (number of records, 1)\n",
    "        return np.hstack((ones, X))\n",
    "\n",
    "\n",
    "    def predict(self, X):\n",
    "        # np.ones(X.shape[0])\n",
    "        W1, W2, W3 = self.network['W1'], self.network['W2'], self.network['W3']\n",
    "        \n",
    "        # 1-layer\n",
    "        X = self._affine(X)\n",
    "        a1 = np.dot(X, W1) # Affine\n",
    "        z1 = sigmoid(a1)\n",
    "        # 2-layer\n",
    "        z1 = self._affine(z1)\n",
    "        a2 = np.dot(z1, W2)\n",
    "        z2 = sigmoid(a2)\n",
    "        # 3-layer\n",
    "        z2 = self._affine(z2)\n",
    "        a3 = np.dot(z2, W3)\n",
    "        y = softmax(a3)\n",
    "        return y\n",
    "    \n",
    "net = Network()\n",
    "x = np.array([1.0, 0.5])\n",
    "y = net.predict(x)\n",
    "y"
   ]
  },
  {
   "cell_type": "code",
   "execution_count": 26,
   "id": "0d6688a8",
   "metadata": {},
   "outputs": [
    {
     "data": {
      "text/plain": [
       "array([[0.27271623, 0.72728377]])"
      ]
     },
     "execution_count": 26,
     "metadata": {},
     "output_type": "execute_result"
    }
   ],
   "source": [
    "class Network:\n",
    "    def __init__(self, m_records, n_features, t_outputs):\n",
    "        self.m_records = m_records\n",
    "        self.n_features = n_features\n",
    "        self.t_outputs = t_outputs\n",
    "        self.network = {}\n",
    "        self.network['W1'] = np.random.randn(n_features + 1, 100) # Affine +1\n",
    "        self.network['W2'] = np.random.randn(100 + 1, 50)\n",
    "        self.network['W3'] = np.random.randn(50 + 1, t_outputs)\n",
    "\n",
    "    def _affine(self, X):\n",
    "        features = X.shape[-1]\n",
    "        X = X.reshape(int(X.size/features), features) # inputted vector or matrix to matrix\n",
    "        ones = np.ones((X.shape[0],1))       # (number of records, 1)\n",
    "        return np.hstack((ones, X))\n",
    "\n",
    "\n",
    "    def predict(self, X):\n",
    "        # np.ones(X.shape[0])\n",
    "        W1, W2, W3 = self.network['W1'], self.network['W2'], self.network['W3']\n",
    "        \n",
    "        # 1-layer\n",
    "        X = self._affine(X)\n",
    "        a1 = np.dot(X, W1) # Affine\n",
    "        z1 = sigmoid(a1)\n",
    "        # 2-layer\n",
    "        z1 = self._affine(z1)\n",
    "        a2 = np.dot(z1, W2)\n",
    "        z2 = sigmoid(a2)\n",
    "        # 3-layer\n",
    "        z2 = self._affine(z2)\n",
    "        a3 = np.dot(z2, W3)\n",
    "        y = softmax(a3)\n",
    "        return y\n",
    "    \n",
    "    def accuracy(self, X, t):\n",
    "        accuracy_cnt = 0\n",
    "        for i in range(len(X)):\n",
    "            y = self.predict(X[i])\n",
    "            p = np.argmax(y)\n",
    "            if p == t[i]:\n",
    "                accuracy_cnt += 1\n",
    "        print(accuracy_cnt)\n",
    "        return float(accuracy_cnt)/len(X)\n",
    "\n",
    "        \n",
    "net = Network(1, 2, 2)\n",
    "x = np.array([1.0, 0.5])\n",
    "y = net.predict(x)\n",
    "y"
   ]
  },
  {
   "cell_type": "code",
   "execution_count": 27,
   "id": "1edecefb",
   "metadata": {},
   "outputs": [
    {
     "name": "stdout",
     "output_type": "stream",
     "text": [
      "0\n",
      "Accuracy:  0.0\n"
     ]
    }
   ],
   "source": [
    "(_, _), (x, t) = load_mnist(normalize=True, flatten=False, one_hot_label=False)\n",
    "\n",
    "net = Network(x.shape[-2], x.shape[-1], t.shape[-1])\n",
    "\n",
    "print(\"Accuracy: \", net.accuracy(x, t))\n"
   ]
  }
 ],
 "metadata": {
  "kernelspec": {
   "display_name": "myenv",
   "language": "python",
   "name": "myenv"
  },
  "language_info": {
   "codemirror_mode": {
    "name": "ipython",
    "version": 3
   },
   "file_extension": ".py",
   "mimetype": "text/x-python",
   "name": "python",
   "nbconvert_exporter": "python",
   "pygments_lexer": "ipython3",
   "version": "3.9.13"
  }
 },
 "nbformat": 4,
 "nbformat_minor": 5
}
