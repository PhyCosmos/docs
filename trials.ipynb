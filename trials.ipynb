{
 "cells": [
  {
   "cell_type": "code",
   "execution_count": 1,
   "metadata": {},
   "outputs": [],
   "source": [
    "import numpy as np\n",
    "import matplotlib.pyplot as plt\n",
    "from sympy import limit, symbols, oo"
   ]
  },
  {
   "cell_type": "code",
   "execution_count": 10,
   "metadata": {},
   "outputs": [
    {
     "data": {
      "text/plain": [
       "array([0.93315693, 0.16848492, 0.19812088, 0.40926282, 0.62375007,\n",
       "       0.01789695, 0.03075739, 0.82141699, 0.84739865, 0.11750783])"
      ]
     },
     "execution_count": 10,
     "metadata": {},
     "output_type": "execute_result"
    }
   ],
   "source": [
    "np.random.rand(10)"
   ]
  },
  {
   "cell_type": "code",
   "execution_count": 8,
   "metadata": {},
   "outputs": [
    {
     "data": {
      "text/plain": [
       "array([9, 5, 5, 1, 9], dtype=int64)"
      ]
     },
     "execution_count": 8,
     "metadata": {},
     "output_type": "execute_result"
    }
   ],
   "source": [
    "test_y = np.random.dirichlet(np.ones(10), 5)\n",
    "test_y.argmax(axis=1)\n",
    "# for y in test_y:\n",
    "#     print(y.argmax())"
   ]
  },
  {
   "cell_type": "code",
   "execution_count": 16,
   "metadata": {},
   "outputs": [
    {
     "data": {
      "text/plain": [
       "(array([9, 4, 5, 1, 9]),\n",
       " array([[0., 0., 0., 0., 0., 0., 0., 0., 0., 1.],\n",
       "        [0., 0., 0., 0., 1., 0., 0., 0., 0., 0.],\n",
       "        [0., 0., 0., 0., 0., 1., 0., 0., 0., 0.],\n",
       "        [0., 1., 0., 0., 0., 0., 0., 0., 0., 0.],\n",
       "        [0., 0., 0., 0., 0., 0., 0., 0., 0., 1.]]))"
      ]
     },
     "execution_count": 16,
     "metadata": {},
     "output_type": "execute_result"
    }
   ],
   "source": [
    "test_t = np.array([9, 4, 5, 1, 9])\n",
    "test_t_onehot = np.zeros_like(test_y)\n",
    "test_t_onehot[np.arange(test_y.shape[0]), test_t] = 1\n",
    "test_t, test_t_onehot\n"
   ]
  },
  {
   "cell_type": "code",
   "execution_count": 17,
   "metadata": {},
   "outputs": [
    {
     "data": {
      "text/plain": [
       "(1.2393509514760714, 1.2393509514760714)"
      ]
     },
     "execution_count": 17,
     "metadata": {},
     "output_type": "execute_result"
    }
   ],
   "source": [
    "from common.functions import cross_entropy_error\n",
    "cross_entropy_error(test_y, test_t), cross_entropy_error(test_y, test_t_onehot)"
   ]
  },
  {
   "cell_type": "code",
   "execution_count": 21,
   "metadata": {},
   "outputs": [
    {
     "data": {
      "text/plain": [
       "(2.057490867611401, 2.057490867611401)"
      ]
     },
     "execution_count": 21,
     "metadata": {},
     "output_type": "execute_result"
    }
   ],
   "source": [
    "from common.layers import SoftmaxWithLoss\n",
    "sm = SoftmaxWithLoss()\n",
    "sm_onehot = SoftmaxWithLoss()\n",
    "sm.forward(test_y, test_t), sm_onehot.forward(test_y, test_t_onehot)"
   ]
  },
  {
   "cell_type": "code",
   "execution_count": 22,
   "metadata": {},
   "outputs": [
    {
     "data": {
      "text/plain": [
       "(array([[ 0.09326221,  0.09258983,  0.09604977,  0.08946214,  0.09811542,\n",
       "          0.09345097,  0.09388978,  0.10368166,  0.08972747, -0.85022925],\n",
       "        [ 0.09445989,  0.09798557,  0.09907441,  0.10882291, -0.90347155,\n",
       "          0.11307172,  0.09309087,  0.10394691,  0.0990196 ,  0.09399967],\n",
       "        [ 0.0905368 ,  0.09194772,  0.09688665,  0.10787168,  0.0982293 ,\n",
       "         -0.87327416,  0.0906126 ,  0.09211044,  0.11023474,  0.09484423],\n",
       "        [ 0.0914868 , -0.86813833,  0.09724557,  0.0998777 ,  0.098403  ,\n",
       "          0.09697457,  0.09233539,  0.09465494,  0.10687719,  0.09028317],\n",
       "        [ 0.09054774,  0.09917213,  0.09226081,  0.10759437,  0.0902854 ,\n",
       "          0.09012387,  0.1009657 ,  0.09828243,  0.0897908 , -0.85902325]]),\n",
       " array([[ 0.09326221,  0.09258983,  0.09604977,  0.08946214,  0.09811542,\n",
       "          0.09345097,  0.09388978,  0.10368166,  0.08972747, -0.85022925],\n",
       "        [ 0.09445989,  0.09798557,  0.09907441,  0.10882291, -0.90347155,\n",
       "          0.11307172,  0.09309087,  0.10394691,  0.0990196 ,  0.09399967],\n",
       "        [ 0.0905368 ,  0.09194772,  0.09688665,  0.10787168,  0.0982293 ,\n",
       "         -0.87327416,  0.0906126 ,  0.09211044,  0.11023474,  0.09484423],\n",
       "        [ 0.0914868 , -0.86813833,  0.09724557,  0.0998777 ,  0.098403  ,\n",
       "          0.09697457,  0.09233539,  0.09465494,  0.10687719,  0.09028317],\n",
       "        [ 0.09054774,  0.09917213,  0.09226081,  0.10759437,  0.0902854 ,\n",
       "          0.09012387,  0.1009657 ,  0.09828243,  0.0897908 , -0.85902325]]))"
      ]
     },
     "execution_count": 22,
     "metadata": {},
     "output_type": "execute_result"
    }
   ],
   "source": [
    "sm.backward(1), sm_onehot.backward(1)"
   ]
  },
  {
   "cell_type": "code",
   "execution_count": 26,
   "metadata": {},
   "outputs": [],
   "source": [
    "def softmax(x):\n",
    "    if x.ndim == 2:\n",
    "        x = x.T\n",
    "        x = x - np.max(x, axis=0)\n",
    "        y = np.exp(x) / np.sum(np.exp(x), axis=0)\n",
    "        return y.T \n",
    "\n",
    "    x = x - np.max(x) # 오버플로 대책\n",
    "    return np.exp(x) / np.sum(np.exp(x))"
   ]
  },
  {
   "cell_type": "code",
   "execution_count": 44,
   "metadata": {},
   "outputs": [
    {
     "data": {
      "text/plain": [
       "((3, 1), array([1.]))"
      ]
     },
     "execution_count": 44,
     "metadata": {},
     "output_type": "execute_result"
    }
   ],
   "source": [
    "s = np.random.dirichlet((2, 10, 5), 1).transpose()\n",
    "s.shape, s.sum(axis=0)"
   ]
  },
  {
   "cell_type": "code",
   "execution_count": 43,
   "metadata": {},
   "outputs": [
    {
     "data": {
      "text/plain": [
       "Text(0.5, 1.0, 'Lengths of Strings')"
      ]
     },
     "execution_count": 43,
     "metadata": {},
     "output_type": "execute_result"
    },
    {
     "data": {
      "image/png": "[encoded data removed]",
      "text/plain": [
       "<Figure size 640x480 with 1 Axes>"
      ]
     },
     "metadata": {},
     "output_type": "display_data"
    }
   ],
   "source": [
    "plt.barh(range(20), s[0])\n",
    "plt.barh(range(20), s[1], left=s[0], color='g')\n",
    "plt.barh(range(20), s[2], left=s[0]+s[1], color='r')\n",
    "plt.title(\"Lengths of Strings\")"
   ]
  },
  {
   "cell_type": "code",
   "execution_count": 38,
   "metadata": {},
   "outputs": [
    {
     "data": {
      "text/plain": [
       "array([0.46199085, 0.48626529, 0.64596447, 0.43803853, 0.31352298,\n",
       "       0.75782548, 0.5036427 , 0.47123885, 0.76247814, 0.52997538,\n",
       "       0.4845766 , 0.33139491, 0.44247584, 0.64850183, 0.46192689,\n",
       "       0.72223472, 0.84208926, 0.52119736, 0.42940951, 0.6917247 ])"
      ]
     },
     "execution_count": 38,
     "metadata": {},
     "output_type": "execute_result"
    }
   ],
   "source": [
    "s[0]"
   ]
  },
  {
   "cell_type": "code",
   "execution_count": 17,
   "metadata": {},
   "outputs": [
    {
     "data": {
      "text/latex": [
       "$\\displaystyle 0$"
      ],
      "text/plain": [
       "0"
      ]
     },
     "execution_count": 17,
     "metadata": {},
     "output_type": "execute_result"
    }
   ],
   "source": [
    "y = symbols('y')\n",
    "limit(y*(1-y), y, 0)"
   ]
  },
  {
   "cell_type": "code",
   "execution_count": 19,
   "metadata": {},
   "outputs": [
    {
     "data": {
      "text/latex": [
       "$\\displaystyle 0$"
      ],
      "text/plain": [
       "0"
      ]
     },
     "execution_count": 19,
     "metadata": {},
     "output_type": "execute_result"
    }
   ],
   "source": [
    "limit(y*(1-y), y, 1)"
   ]
  },
  {
   "cell_type": "code",
   "execution_count": 20,
   "metadata": {},
   "outputs": [
    {
     "data": {
      "text/latex": [
       "$\\displaystyle 0.25$"
      ],
      "text/plain": [
       "0.250000000000000"
      ]
     },
     "execution_count": 20,
     "metadata": {},
     "output_type": "execute_result"
    }
   ],
   "source": [
    "limit(y*(1-y), y, 1/2)"
   ]
  },
  {
   "cell_type": "code",
   "execution_count": 2,
   "metadata": {},
   "outputs": [
    {
     "data": {
      "text/plain": [
       "array([0, 1, 2, 3, 4, 5])"
      ]
     },
     "execution_count": 2,
     "metadata": {},
     "output_type": "execute_result"
    }
   ],
   "source": [
    "x1 = np.arange(6)\n",
    "x1"
   ]
  },
  {
   "cell_type": "code",
   "execution_count": 3,
   "metadata": {},
   "outputs": [
    {
     "data": {
      "text/plain": [
       "array([  0,   1,   8,  27,  64, 125], dtype=int32)"
      ]
     },
     "execution_count": 3,
     "metadata": {},
     "output_type": "execute_result"
    }
   ],
   "source": [
    "np.power(x1, 3)"
   ]
  },
  {
   "cell_type": "code",
   "execution_count": 4,
   "metadata": {},
   "outputs": [
    {
     "data": {
      "text/plain": [
       "array([ 0.,  1.,  8., 27., 16.,  5.])"
      ]
     },
     "execution_count": 4,
     "metadata": {},
     "output_type": "execute_result"
    }
   ],
   "source": [
    "x2 = [1.0, 2.0, 3.0, 3.0, 2.0, 1.0]\n",
    "np.power(x1, x2)"
   ]
  },
  {
   "cell_type": "code",
   "execution_count": 5,
   "metadata": {},
   "outputs": [
    {
     "data": {
      "text/plain": [
       "array([[1, 2, 3, 3, 2, 1],\n",
       "       [1, 2, 3, 3, 2, 1]])"
      ]
     },
     "execution_count": 5,
     "metadata": {},
     "output_type": "execute_result"
    }
   ],
   "source": [
    "# The effect of broadcasting\n",
    "x2 = np.array([[1, 2, 3, 3, 2, 1], [1, 2, 3, 3, 2, 1]])\n",
    "x2"
   ]
  },
  {
   "cell_type": "code",
   "execution_count": 6,
   "metadata": {},
   "outputs": [
    {
     "data": {
      "text/plain": [
       "array([[ 0,  1,  8, 27, 16,  5],\n",
       "       [ 0,  1,  8, 27, 16,  5]])"
      ]
     },
     "execution_count": 6,
     "metadata": {},
     "output_type": "execute_result"
    }
   ],
   "source": [
    "np.power(x1, x2)"
   ]
  },
  {
   "cell_type": "code",
   "execution_count": 9,
   "metadata": {},
   "outputs": [
    {
     "data": {
      "text/plain": [
       "array([nan, nan])"
      ]
     },
     "execution_count": 9,
     "metadata": {},
     "output_type": "execute_result"
    }
   ],
   "source": [
    "x3 = np.array([-1.0, -4.0])\n",
    "with np.errstate(invalid='ignore'):\n",
    "    p = np.power(x3, 1.5)\n",
    "p"
   ]
  },
  {
   "cell_type": "code",
   "execution_count": 10,
   "metadata": {},
   "outputs": [
    {
     "data": {
      "text/plain": [
       "array([-1.83697020e-16-1.j, -1.46957616e-15-8.j])"
      ]
     },
     "execution_count": 10,
     "metadata": {},
     "output_type": "execute_result"
    }
   ],
   "source": [
    "np.power(x3, 1.5, dtype=complex)"
   ]
  },
  {
   "cell_type": "code",
   "execution_count": 12,
   "metadata": {},
   "outputs": [
    {
     "data": {
      "text/plain": [
       "(-1.8369701987210297e-16-1j)"
      ]
     },
     "execution_count": 12,
     "metadata": {},
     "output_type": "execute_result"
    }
   ],
   "source": [
    "(-1.0)**1.5"
   ]
  },
  {
   "cell_type": "code",
   "execution_count": 2,
   "metadata": {},
   "outputs": [],
   "source": [
    "from common.gradient import *\n",
    "from common.optimizer import *"
   ]
  },
  {
   "cell_type": "code",
   "execution_count": 18,
   "metadata": {},
   "outputs": [
    {
     "name": "stdout",
     "output_type": "stream",
     "text": [
      "29.00040001 28.99960001 0.0007999999999981355\n",
      "29.00060001 28.99940001 0.001200000000000756\n",
      "29.00080001 28.99920001 0.0015999999999998238\n"
     ]
    },
    {
     "data": {
      "text/plain": [
       "array([4., 6., 8.])"
      ]
     },
     "execution_count": 18,
     "metadata": {},
     "output_type": "execute_result"
    }
   ],
   "source": [
    "def numerical_gradient(f, x):\n",
    "    x = np.array(x)\n",
    "    x = x.astype(float)\n",
    "    h = 1e-4 # 0.0001\n",
    "    grad = np.zeros_like(x)\n",
    "    \n",
    "    it = np.nditer(x, flags=['multi_index'], op_flags=['readwrite'])\n",
    "    while not it.finished:\n",
    "        idx = it.multi_index\n",
    "        tmp_val = x[idx]\n",
    "        x[idx] = float(tmp_val) + h\n",
    "        fxh1 = f(x) # f(x+h)\n",
    "        \n",
    "        x[idx] = float(tmp_val) - h \n",
    "        fxh2 = f(x) # f(x-h)\n",
    "        print(fxh1, fxh2, fxh1 - fxh2)\n",
    "        grad[idx] = ((fxh1 - fxh2) / (2*h))#[idx]\n",
    "        \n",
    "        x[idx] = tmp_val # 값 복원\n",
    "        it.iternext()   \n",
    "        \n",
    "    return grad\n",
    "numerical_gradient(lambda x: np.sum(x**2), np.array([2.0, 3.0, 4.0]))\n"
   ]
  },
  {
   "cell_type": "code",
   "execution_count": 19,
   "metadata": {},
   "outputs": [
    {
     "name": "stdout",
     "output_type": "stream",
     "text": [
      "8.000800020000002 7.99920002 0.0016000000000016001\n"
     ]
    },
    {
     "data": {
      "text/plain": [
       "array(8.)"
      ]
     },
     "execution_count": 19,
     "metadata": {},
     "output_type": "execute_result"
    }
   ],
   "source": [
    "numerical_gradient(lambda x: np.average(2*x**2), 2)"
   ]
  },
  {
   "cell_type": "code",
   "execution_count": 10,
   "metadata": {},
   "outputs": [
    {
     "name": "stdout",
     "output_type": "stream",
     "text": [
      "25.00060001 24.99940001 0.001200000000000756\n",
      "25.00080001 24.99920001 0.0015999999999998238\n"
     ]
    },
    {
     "data": {
      "text/plain": [
       "array([6., 8.])"
      ]
     },
     "execution_count": 10,
     "metadata": {},
     "output_type": "execute_result"
    }
   ],
   "source": [
    "def function_2(x):\n",
    "    return x[0]**2 + x[1]**2\n",
    "numerical_gradient(function_2, np.array([3.0, 4.0]))"
   ]
  },
  {
   "cell_type": "code",
   "execution_count": 51,
   "metadata": {},
   "outputs": [
    {
     "data": {
      "text/plain": [
       "(array([[ 0.84964079, -0.12079466],\n",
       "        [-0.27458147,  0.40673661],\n",
       "        [ 1.03183847, -1.32362665]]),\n",
       " array([-1.27514703,  0.12722117]))"
      ]
     },
     "execution_count": 51,
     "metadata": {},
     "output_type": "execute_result"
    }
   ],
   "source": [
    "class Affine:\n",
    "    def __init__(self, W, b) -> None:\n",
    "        self.W = W   # (d, p)\n",
    "        self.b = b   # (p, )\n",
    "        self.X = None   # (n, d)\n",
    "        self.dW = None\n",
    "        self.dX = None\n",
    "        self.db = None\n",
    "    def forward(self, X):\n",
    "        self.X = X   # (n, d) or (d, )\n",
    "        out = np.dot(self.X, self.W) + self.b # (n, p) + (p, ) -> (n, p) broadcasting\n",
    "        return out\n",
    "    def backward(self, dout):\n",
    "        self.dX = np.dot(dout,self.W.T)\n",
    "        # ndim == 1인 경우 문제가 생긴다. 이를 해결하기 위한 조건문.\n",
    "        if dout.ndim == 2: # 즉, batch로 입력되는 경우이다.\n",
    "            self.dW = np.dot(self.X.T, dout)\n",
    "            self.db = np.sum(dout, axis=0)  # forward시 브로드캐스팅으로 copy node 가 생략되었었다고 보고 adder를 적용\n",
    "        elif dout.ndim == 1:\n",
    "            self.dW = np.dot(self.X.reshape(self.X.size, 1), dout.reshape(1, dout.size))\n",
    "            self.db = dout         \n",
    "        else:\n",
    "            print(\"Type or dimension is wrong.\")\n",
    "            raise TypeError\n",
    "        return self.dX\n",
    "W = np.random.randn(3, 2)\n",
    "b = np.random.randn(2)\n",
    "affine = Affine(W, b)\n",
    "affine.W, affine.b"
   ]
  },
  {
   "cell_type": "code",
   "execution_count": 53,
   "metadata": {},
   "outputs": [],
   "source": [
    "class Affine:\n",
    "    def __init__(self, W, b):\n",
    "        self.W = W\n",
    "        self.b = b\n",
    "        \n",
    "        self.x = None\n",
    "        self.original_x_shape = None\n",
    "        # 가중치와 편향 매개변수의 미분\n",
    "        self.dW = None\n",
    "        self.db = None\n",
    "\n",
    "    def forward(self, x):\n",
    "        \"\"\" 해당 layer를 거쳐 내보내는 값을 결정한다. 여기서는\n",
    "        Affine 계산값. backward 계산에 활용하기 위해 초기 shape을 \n",
    "        클래스 변수로 기억시켜 둔다.        \n",
    "\n",
    "        Args:\n",
    "            x ((d,..,f) shaped ndarray): 반드시 2차 이상의 입력값 ndarray로서\n",
    "                shape의 첫 인덱스는 data record를 지칭해야 한다. 즉, d 개의\n",
    "                데이터(샘플)를 입력한다는 의미가 된다.\n",
    "\n",
    "        Returns:\n",
    "            (d,r) shaped ndarray: 계산 결과를 반환한다. 결과적인 shape은 클래스\n",
    "                마다 다르다.\n",
    "        \"\"\"\n",
    "        # 텐서 대응\n",
    "        \n",
    "        self.original_x_shape = x.shape\n",
    "        # One shape dimension can be -1. In this case, \n",
    "        # the value is inferred from the length of the array \n",
    "        # and remaining dimensions. e.g. (2, 3, 4) -> (2, 12)\n",
    "        x = x.reshape(x.shape[0], -1) # (1,f)->(1,f), (d,f)->(d,f), (d,m,f)->(d,m*f)...\n",
    "        self.x = x\n",
    "\n",
    "        out = np.dot(self.x, self.W) + self.b\n",
    "\n",
    "        return out\n",
    "\n",
    "    def backward(self, dout):\n",
    "        dx = np.dot(dout, self.W.T)\n",
    "        self.dW = np.dot(self.x.T, dout)\n",
    "        self.db = np.sum(dout, axis=0)\n",
    "        \n",
    "        dx = dx.reshape(*self.original_x_shape)  # 입력 데이터 모양 변경(텐서 대응)\n",
    "        return dx"
   ]
  },
  {
   "cell_type": "code",
   "execution_count": 54,
   "metadata": {},
   "outputs": [
    {
     "data": {
      "text/plain": [
       "(array([[-1.23089115, -0.39267319],\n",
       "        [-0.69504687,  0.16143574],\n",
       "        [ 0.24248903, -0.76754044]]),\n",
       " array([ 0.24947733, -0.51813901]))"
      ]
     },
     "execution_count": 54,
     "metadata": {},
     "output_type": "execute_result"
    }
   ],
   "source": [
    "W = np.random.randn(3, 2)\n",
    "b = np.random.randn(2)\n",
    "affine = Affine(W, b)\n",
    "affine.W, affine.b"
   ]
  },
  {
   "cell_type": "code",
   "execution_count": 62,
   "metadata": {},
   "outputs": [
    {
     "data": {
      "text/plain": [
       "array([1., 2., 3.])"
      ]
     },
     "execution_count": 62,
     "metadata": {},
     "output_type": "execute_result"
    }
   ],
   "source": [
    "x = np.array([1., 2., 3.0])\n",
    "x"
   ]
  },
  {
   "cell_type": "code",
   "execution_count": 64,
   "metadata": {},
   "outputs": [
    {
     "data": {
      "text/plain": [
       "array([[-1.64404046, -2.89056203]])"
      ]
     },
     "execution_count": 64,
     "metadata": {},
     "output_type": "execute_result"
    }
   ],
   "source": [
    "affine.forward(x.reshape(1, -1))"
   ]
  },
  {
   "cell_type": "code",
   "execution_count": 69,
   "metadata": {},
   "outputs": [
    {
     "data": {
      "text/plain": [
       "array([[-2.01623753, -0.37217538, -1.29259184]])"
      ]
     },
     "execution_count": 69,
     "metadata": {},
     "output_type": "execute_result"
    }
   ],
   "source": [
    "affine.backward(np.array([[1, 2]]))"
   ]
  },
  {
   "cell_type": "code",
   "execution_count": 73,
   "metadata": {},
   "outputs": [
    {
     "data": {
      "text/plain": [
       "array([1., 2.])"
      ]
     },
     "execution_count": 73,
     "metadata": {},
     "output_type": "execute_result"
    }
   ],
   "source": [
    "dout = np.array([[1., 2.]])\n",
    "affine.backward(dout)\n",
    "affine.db"
   ]
  },
  {
   "cell_type": "code",
   "execution_count": 50,
   "metadata": {},
   "outputs": [
    {
     "data": {
      "text/plain": [
       "array([[7., 9.]])"
      ]
     },
     "execution_count": 50,
     "metadata": {},
     "output_type": "execute_result"
    }
   ],
   "source": [
    "def forward(X):\n",
    "        X = X.reshape(X.shape[0], -1)   # (d, f) or (f, )\n",
    "        out = np.dot(X, W) + b # (d, f).(f, w) + (w, ) -> (n, p) broadcasting\n",
    "        return out\n",
    "x = np.array([[1, 2, 3]])\n",
    "forward(x)"
   ]
  },
  {
   "cell_type": "code",
   "execution_count": 47,
   "metadata": {},
   "outputs": [
    {
     "data": {
      "text/plain": [
       "array([[ 1],\n",
       "       [ 2],\n",
       "       [ 3],\n",
       "       [ 4],\n",
       "       [ 5],\n",
       "       [ 6],\n",
       "       [ 7],\n",
       "       [ 8],\n",
       "       [ 9],\n",
       "       [10],\n",
       "       [11],\n",
       "       [12]])"
      ]
     },
     "execution_count": 47,
     "metadata": {},
     "output_type": "execute_result"
    }
   ],
   "source": [
    "X.reshape(12, -1)"
   ]
  },
  {
   "cell_type": "code",
   "execution_count": 43,
   "metadata": {},
   "outputs": [
    {
     "name": "stdout",
     "output_type": "stream",
     "text": [
      "(2, 2, 3)\n"
     ]
    },
    {
     "data": {
      "text/plain": [
       "array([[ 1,  2,  3,  4,  5,  6],\n",
       "       [ 7,  8,  9, 10, 11, 12]])"
      ]
     },
     "execution_count": 43,
     "metadata": {},
     "output_type": "execute_result"
    }
   ],
   "source": [
    "X = np.array([[[1,2,3], [4, 5, 6]], [[7, 8, 9], [10,11,12]]])\n",
    "print(X.shape)\n",
    "X = X.reshape(X.shape[0], -1)\n",
    "X"
   ]
  },
  {
   "cell_type": "code",
   "execution_count": 150,
   "metadata": {},
   "outputs": [
    {
     "data": {
      "text/plain": [
       "{'w': array([[ 0.42416295,  0.3831017 ],\n",
       "        [ 0.7047519 , -1.02008082],\n",
       "        [-0.70389394, -1.42798903],\n",
       "        [ 1.13612807, -0.16656184],\n",
       "        [ 0.00402966, -0.50323545]]),\n",
       " 'b': array([[ 0.29870793],\n",
       "        [-0.12227447],\n",
       "        [-0.47546514],\n",
       "        [ 2.56351048],\n",
       "        [ 0.74658351]])}"
      ]
     },
     "execution_count": 150,
     "metadata": {},
     "output_type": "execute_result"
    }
   ],
   "source": [
    "f = lambda x, y: x**2 + y**2 + x*y + 3*x - 2*y\n",
    "params = {'w': np.random.randn(5, 2), 'b': np.random.randn(5, 1)}\n",
    "grad = lambda x, y: (2*x + y + 3, 2*y + x - 2)\n",
    "params"
   ]
  },
  {
   "cell_type": "code",
   "execution_count": 157,
   "metadata": {},
   "outputs": [
    {
     "data": {
      "text/plain": [
       "{'w': array([[ 3.93714529,  3.85975306],\n",
       "        [ 4.10924446,  0.85827976],\n",
       "        [ 1.16734415, -0.19743028],\n",
       "        [ 7.28178218,  4.82647223],\n",
       "        [ 3.56033421,  2.60424093]]),\n",
       " 'b': array([[-1.05894291],\n",
       "        [-2.33737067],\n",
       "        [-3.79713149],\n",
       "        [ 3.21727934],\n",
       "        [-0.80581581]])}"
      ]
     },
     "execution_count": 157,
     "metadata": {},
     "output_type": "execute_result"
    }
   ],
   "source": [
    "grads = {}\n",
    "grads['w'], grads['b'] = grad(params['w'], params['b'])\n",
    "grads['b'] = (grads['b'].sum(axis=1)/2).reshape(5, 1)\n",
    "grads"
   ]
  },
  {
   "cell_type": "code",
   "execution_count": 158,
   "metadata": {},
   "outputs": [],
   "source": [
    "mom.update(params, grads)"
   ]
  },
  {
   "cell_type": "code",
   "execution_count": 159,
   "metadata": {},
   "outputs": [
    {
     "data": {
      "text/plain": [
       "{'w': array([[ 0.19499931,  0.15846662],\n",
       "        [ 0.46719091, -1.06741346],\n",
       "        [-0.76738826, -1.41162435],\n",
       "        [ 0.70574524, -0.4532736 ],\n",
       "        [-0.20337967, -0.65469953]]),\n",
       " 'b': array([[ 0.35574957],\n",
       "        [ 0.01141529],\n",
       "        [-0.25376785],\n",
       "        [ 2.36744728],\n",
       "        [ 0.78984292]])}"
      ]
     },
     "execution_count": 159,
     "metadata": {},
     "output_type": "execute_result"
    }
   ],
   "source": [
    "params\n"
   ]
  },
  {
   "cell_type": "code",
   "execution_count": null,
   "metadata": {},
   "outputs": [],
   "source": []
  },
  {
   "cell_type": "code",
   "execution_count": 103,
   "metadata": {},
   "outputs": [
    {
     "name": "stdout",
     "output_type": "stream",
     "text": [
      "(2.0 + Matrix([\n",
      "[0.4, 0.6],\n",
      "[1.4, 0.2]]))*R.i + (3 + Matrix([\n",
      "[0.2, 0.3],\n",
      "[0.7, 0.1]]))*R.j\n"
     ]
    },
    {
     "data": {
      "text/plain": [
       "{R.x: 5 + 2*(2.0 + Matrix([\n",
       " [0.4, 0.6],\n",
       " [1.4, 0.2]])) + Matrix([\n",
       " [0.2, 0.3],\n",
       " [0.7, 0.1]]),\n",
       " R.y: 3 + Matrix([\n",
       " [0.2, 0.3],\n",
       " [0.7, 0.1]])}"
      ]
     },
     "execution_count": 103,
     "metadata": {},
     "output_type": "execute_result"
    }
   ],
   "source": [
    "from sympy import symbols, Matrix, lambdify\n",
    "from sympy.vector import CoordSys3D, gradient\n",
    "R = CoordSys3D('R')\n",
    "s1 = R.x**2 +R.y**2 + R.x*R.y + 2*R.x + 3*R.y\n",
    "g = gradient(s1)\n",
    "params = {R.x: Matrix([[0.2, 0.3],[0.7,0.1]]), R.y: 0.0}\n",
    "def gradient_values(params, g):\n",
    "    g0 = g.subs(params.copy())\n",
    "    print(g0)\n",
    "    fx = lambdify([R.x, R.y], g.coeff(R.i), np)\n",
    "    fy = lambdify([R.x, R.y], g.coeff(R.j), np) \n",
    "    return  {R.x: fx(g0.coeff(R.i), g0.coeff(R.j)), R.y: g0.coeff(R.j)}\n",
    "gradient_values(params, g)"
   ]
  },
  {
   "cell_type": "code",
   "execution_count": 96,
   "metadata": {},
   "outputs": [
    {
     "data": {
      "text/plain": [
       "6"
      ]
     },
     "execution_count": 96,
     "metadata": {},
     "output_type": "execute_result"
    }
   ],
   "source": [
    "lambdify([R.x, R.y],g.coeff(R.i))(1, 2)"
   ]
  },
  {
   "cell_type": "code",
   "execution_count": 9,
   "metadata": {},
   "outputs": [
    {
     "data": {
      "text/plain": [
       "array([1. , 1.5, 2.5, 3.5, 4.5, 5. ])"
      ]
     },
     "execution_count": 9,
     "metadata": {},
     "output_type": "execute_result"
    }
   ],
   "source": [
    "f = np.array([1, 2, 4, 7, 11, 16], dtype=float)\n",
    "np.gradient(f)"
   ]
  },
  {
   "cell_type": "code",
   "execution_count": 12,
   "metadata": {},
   "outputs": [
    {
     "data": {
      "text/plain": [
       "array([0.5 , 0.75, 1.25, 1.75, 2.25, 2.5 ])"
      ]
     },
     "execution_count": 12,
     "metadata": {},
     "output_type": "execute_result"
    }
   ],
   "source": [
    "np.gradient(f, 2)"
   ]
  },
  {
   "cell_type": "code",
   "execution_count": 71,
   "metadata": {},
   "outputs": [
    {
     "data": {
      "text/plain": [
       "{R.x: -0.312500000000000, R.y: -1.25000000000000}"
      ]
     },
     "execution_count": 71,
     "metadata": {},
     "output_type": "execute_result"
    }
   ],
   "source": [
    "sgd.update(params, gradient_values(params, g))\n",
    "params"
   ]
  },
  {
   "cell_type": "code",
   "execution_count": 5,
   "metadata": {},
   "outputs": [
    {
     "data": {
      "text/plain": [
       "array([[1., 1., 1., 1.],\n",
       "       [1., 1., 1., 1.]])"
      ]
     },
     "execution_count": 5,
     "metadata": {},
     "output_type": "execute_result"
    }
   ],
   "source": [
    "ones = np.ones((2, 4))\n",
    "ones"
   ]
  },
  {
   "cell_type": "code",
   "execution_count": 6,
   "metadata": {},
   "outputs": [
    {
     "data": {
      "text/plain": [
       "array([2., 2., 2., 2.])"
      ]
     },
     "execution_count": 6,
     "metadata": {},
     "output_type": "execute_result"
    }
   ],
   "source": [
    "ones.sum(axis=0)"
   ]
  },
  {
   "cell_type": "code",
   "execution_count": 7,
   "metadata": {},
   "outputs": [
    {
     "data": {
      "text/plain": [
       "array([4., 4.])"
      ]
     },
     "execution_count": 7,
     "metadata": {},
     "output_type": "execute_result"
    }
   ],
   "source": [
    "ones.sum(axis=1)"
   ]
  },
  {
   "cell_type": "code",
   "execution_count": 8,
   "metadata": {},
   "outputs": [
    {
     "data": {
      "text/plain": [
       "array([[0., 0., 0., 0.],\n",
       "       [0., 0., 0., 0.]])"
      ]
     },
     "execution_count": 8,
     "metadata": {},
     "output_type": "execute_result"
    }
   ],
   "source": [
    "1 - ones"
   ]
  },
  {
   "cell_type": "code",
   "execution_count": 9,
   "metadata": {},
   "outputs": [
    {
     "data": {
      "text/plain": [
       "array([[1., 1., 1., 1.],\n",
       "       [1., 1., 1., 1.]])"
      ]
     },
     "execution_count": 9,
     "metadata": {},
     "output_type": "execute_result"
    }
   ],
   "source": [
    "ones * ones"
   ]
  },
  {
   "cell_type": "code",
   "execution_count": 11,
   "metadata": {},
   "outputs": [
    {
     "data": {
      "text/plain": [
       "2"
      ]
     },
     "execution_count": 11,
     "metadata": {},
     "output_type": "execute_result"
    }
   ],
   "source": [
    "ones.ndim"
   ]
  },
  {
   "cell_type": "code",
   "execution_count": 12,
   "metadata": {},
   "outputs": [
    {
     "data": {
      "text/plain": [
       "array([[0.73105858, 0.73105858, 0.73105858, 0.73105858],\n",
       "       [0.73105858, 0.73105858, 0.73105858, 0.73105858]])"
      ]
     },
     "execution_count": 12,
     "metadata": {},
     "output_type": "execute_result"
    }
   ],
   "source": [
    "from common.layers import Sigmoid\n",
    "sigmoid = Sigmoid()\n",
    "sigmoid.forward(ones)"
   ]
  },
  {
   "cell_type": "code",
   "execution_count": 13,
   "metadata": {},
   "outputs": [
    {
     "data": {
      "text/plain": [
       "array([[0.73105858, 0.73105858, 0.73105858, 0.73105858],\n",
       "       [0.73105858, 0.73105858, 0.73105858, 0.73105858]])"
      ]
     },
     "execution_count": 13,
     "metadata": {},
     "output_type": "execute_result"
    }
   ],
   "source": [
    "sigmoid.out"
   ]
  },
  {
   "cell_type": "code",
   "execution_count": 17,
   "metadata": {},
   "outputs": [
    {
     "data": {
      "text/plain": [
       "array([[0.        , 0.19661193, 0.39322387, 0.5898358 ],\n",
       "       [0.78644773, 0.98305967, 1.1796716 , 1.37628353]])"
      ]
     },
     "execution_count": 17,
     "metadata": {},
     "output_type": "execute_result"
    }
   ],
   "source": [
    "dout = np.arange(0, 8).reshape(2, 4)\n",
    "sigmoid.backward(dout)"
   ]
  },
  {
   "cell_type": "code",
   "execution_count": 18,
   "metadata": {},
   "outputs": [
    {
     "data": {
      "text/plain": [
       "array([1, 0, 0, 0, 1, 1])"
      ]
     },
     "execution_count": 18,
     "metadata": {},
     "output_type": "execute_result"
    }
   ],
   "source": [
    "np.array(np.array([1,0, -3, -5,6,7]) > 0, dtype=np.int32)"
   ]
  },
  {
   "cell_type": "code",
   "execution_count": 20,
   "metadata": {},
   "outputs": [
    {
     "data": {
      "text/plain": [
       "array([[0.52358115, 0.79216489, 0.61957747, 0.7362386 , 0.65302009,\n",
       "        0.82111844, 0.71388413, 0.85279883, 0.83233847, 0.72436588,\n",
       "        0.75488372, 0.74281702, 0.85105497, 0.87534427, 0.86945925,\n",
       "        0.60861834, 0.46664472, 0.72795347, 0.73893307, 0.86077736],\n",
       "       [0.47641885, 0.20783511, 0.38042253, 0.2637614 , 0.34697991,\n",
       "        0.17888156, 0.28611587, 0.14720117, 0.16766153, 0.27563412,\n",
       "        0.24511628, 0.25718298, 0.14894503, 0.12465573, 0.13054075,\n",
       "        0.39138166, 0.53335528, 0.27204653, 0.26106693, 0.13922264]])"
      ]
     },
     "execution_count": 20,
     "metadata": {},
     "output_type": "execute_result"
    }
   ],
   "source": [
    "s = np.random.dirichlet((10, 3), 20).transpose()\n",
    "s"
   ]
  },
  {
   "cell_type": "code",
   "execution_count": null,
   "metadata": {},
   "outputs": [],
   "source": []
  }
 ],
 "metadata": {
  "kernelspec": {
   "display_name": "Python 3.9.13 ('tf2stock')",
   "language": "python",
   "name": "python3"
  },
  "language_info": {
   "codemirror_mode": {
    "name": "ipython",
    "version": 3
   },
   "file_extension": ".py",
   "mimetype": "text/x-python",
   "name": "python",
   "nbconvert_exporter": "python",
   "pygments_lexer": "ipython3",
   "version": "3.9.15"
  },
  "orig_nbformat": 4,
  "vscode": {
   "interpreter": {
    "hash": "eda12ba699676355f65171f793ca8e7ed047d544330c821644749bcb3637ae47"
   }
  }
 },
 "nbformat": 4,
 "nbformat_minor": 2
}
