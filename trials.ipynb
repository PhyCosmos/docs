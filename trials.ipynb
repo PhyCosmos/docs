{
 "cells": [
  {
   "cell_type": "code",
   "execution_count": 1,
   "metadata": {},
   "outputs": [],
   "source": [
    "import numpy as np\n",
    "import matplotlib.pyplot as plt"
   ]
  },
  {
   "cell_type": "code",
   "execution_count": 4,
   "metadata": {},
   "outputs": [
    {
     "data": {
      "text/plain": [
       "array([1, 0, 0, 0, 1, 1], dtype=int32)"
      ]
     },
     "execution_count": 4,
     "metadata": {},
     "output_type": "execute_result"
    }
   ],
   "source": [
    "np.array(np.array([1,0, -3, -5,6,7]) > 0, dtype=np.int32)"
   ]
  },
  {
   "cell_type": "code",
   "execution_count": 3,
   "metadata": {},
   "outputs": [
    {
     "ename": "TypeError",
     "evalue": "object of type 'int' has no len()",
     "output_type": "error",
     "traceback": [
      "\u001b[0;31m---------------------------------------------------------------------------\u001b[0m",
      "\u001b[0;31mTypeError\u001b[0m                                 Traceback (most recent call last)",
      "\u001b[1;32m/home/wye/works/jspace/study_fromscratch1_3/trials.ipynb Cell 3\u001b[0m in \u001b[0;36m<cell line: 1>\u001b[0;34m()\u001b[0m\n\u001b[0;32m----> <a href='vscode-notebook-cell:/home/wye/works/jspace/study_fromscratch1_3/trials.ipynb#W2sZmlsZQ%3D%3D?line=0'>1</a>\u001b[0m arr \u001b[39m=\u001b[39m np\u001b[39m.\u001b[39;49mrandom\u001b[39m.\u001b[39;49mdirichlet(\u001b[39m12\u001b[39;49m, (\u001b[39m3\u001b[39;49m, \u001b[39m4\u001b[39;49m))\n\u001b[1;32m      <a href='vscode-notebook-cell:/home/wye/works/jspace/study_fromscratch1_3/trials.ipynb#W2sZmlsZQ%3D%3D?line=1'>2</a>\u001b[0m arr\n",
      "File \u001b[0;32mmtrand.pyx:4385\u001b[0m, in \u001b[0;36mnumpy.random.mtrand.RandomState.dirichlet\u001b[0;34m()\u001b[0m\n",
      "\u001b[0;31mTypeError\u001b[0m: object of type 'int' has no len()"
     ]
    }
   ],
   "source": [
    "arr = np.random.dirichlet(12, (3, 4))\n",
    "arr"
   ]
  },
  {
   "cell_type": "code",
   "execution_count": 4,
   "metadata": {},
   "outputs": [
    {
     "data": {
      "text/plain": [
       "array([[0.57849783, 0.6598446 , 0.58382728, 0.53573215, 0.75305074,\n",
       "        0.59465808, 0.6392247 , 0.36471196, 0.33091525, 0.4596033 ,\n",
       "        0.49400733, 0.64000263, 0.4589171 , 0.51134693, 0.32418276,\n",
       "        0.42573285, 0.52558788, 0.43147096, 0.50682664, 0.42699936],\n",
       "       [0.35324819, 0.21942123, 0.17060764, 0.23528803, 0.18314053,\n",
       "        0.25512507, 0.14514952, 0.57171228, 0.39310872, 0.32287815,\n",
       "        0.32637917, 0.28331614, 0.41788616, 0.25408662, 0.40106696,\n",
       "        0.47290571, 0.27192186, 0.41469398, 0.33772407, 0.38146716],\n",
       "       [0.06825398, 0.12073417, 0.24556508, 0.22897982, 0.06380873,\n",
       "        0.15021684, 0.21562577, 0.06357576, 0.27597603, 0.21751855,\n",
       "        0.1796135 , 0.07668123, 0.12319674, 0.23456645, 0.27475029,\n",
       "        0.10136144, 0.20249026, 0.15383506, 0.1554493 , 0.19153348]])"
      ]
     },
     "execution_count": 4,
     "metadata": {},
     "output_type": "execute_result"
    }
   ],
   "source": [
    "s = np.random.dirichlet((10, 3), 20).transpose()\n",
    "s"
   ]
  },
  {
   "cell_type": "code",
   "execution_count": null,
   "metadata": {},
   "outputs": [],
   "source": []
  }
 ],
 "metadata": {
  "kernelspec": {
   "display_name": "Python 3.9.13 ('myenv')",
   "language": "python",
   "name": "python3"
  },
  "language_info": {
   "codemirror_mode": {
    "name": "ipython",
    "version": 3
   },
   "file_extension": ".py",
   "mimetype": "text/x-python",
   "name": "python",
   "nbconvert_exporter": "python",
   "pygments_lexer": "ipython3",
   "version": "3.9.13"
  },
  "orig_nbformat": 4,
  "vscode": {
   "interpreter": {
    "hash": "3e8eaeddf965052a64d6e7024a0d02bfec34817392b6016adeb55fa3f11606f4"
   }
  }
 },
 "nbformat": 4,
 "nbformat_minor": 2
}
