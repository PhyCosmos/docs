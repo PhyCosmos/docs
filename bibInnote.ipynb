{
 "cells": [
  {
   "cell_type": "markdown",
   "id": "1312a8ac-151b-40df-b1b2-e51ff31666f5",
   "metadata": {},
   "source": [
    "<a id=\"section_ID\">here</a>\n",
    "\n",
    "<a id='ref1'>Velit debitis</a> \n",
    "<figure>\n",
    "  <h1> References </h1>\n",
    "  <ol style=\"counter-reset:item;list-style:nonce;\">\n",
    "     <p>\n",
    "        <li style=\"counter-increment:item;content:'['c counter(item) ']';margin-right:30px;\">E.Balagurusamy, <cite>Programming with JAVA: A Primer</cite>, 3rd edition, (2007)</li>\n",
    "     </p>\n",
    "     <p>\n",
    "        <li>Reto Meier, <cite>Professional Android 4 Application Development</cite>, 3rd edition, (2012)</li>\n",
    "     </p>\n",
    "  </ol>\n",
    "\n",
    "</figure>"
   ]
  },
  {
   "cell_type": "markdown",
   "id": "e4345d9c-5daf-4bea-b698-f29cc7e6ac4b",
   "metadata": {
    "tags": []
   },
   "source": [
    "<a id=\"section_ID\">here</a>\n",
    "&#reference_number\n",
    " \n",
    " cLorem ipsum dolor sit, amet consectetur adipisicing elit. Culpa neque nobis cumque molestiae quod? Sit, inventore similique sunt sapiente voluptatum doloremque ea quidem s\n",
    " \n",
    "<div class=\"alert alert-block alert-warning\">\n",
    "<b>Example:</b> Use yellow boxes for examples that are not \n",
    "inside code cells, or use for mathematical formulas if needed.\n",
    "</div>\n",
    "[Section title](#section-ID)\n",
    "[Analyzing customer purchasing habits](#analyzing-customer-purchasing-habits)\n",
    "Amet laborum distinctio illum, quidem voluptatibus tempore eos animi perspiciatis consectetur, obcaecati quasi molestiae incidunt ad possimus reprehenderit quis ipsum blanditiis sit velit nesciunt rem tempora! Accusantium accusamus corrupti architecto?\n",
    "      Omnis eius maiores magni, magnam saepe iste voluptate explicabo deserunt possimus sint nostrum? Dignissimos debitis dicta quaerat nesciunt, consequatur saepe recusandae excepturi in animi iste quod optio aspernatur cumque vitae.  \n",
    "      \n",
    "c\n",
    "      Necessitatibus, laudantium? Doloremque, quod maxime voluptatum iure tempore molestiae pariatur optio quidem beatae sed ex sit accusantium fugit officia voluptate dolor eos at? Itaque quia sint inventore? Magni, perferendis consequatur?\n",
    "      Odit quod consectetur unde quas? Deleniti minima dolore, commodi omnis ea consequatur reprehenderit adipisci illo veniam. Quis cumque itaque incidunt, assumenda similique, culpa suscipit, sit dolore corrupti exercitationem adipisci mollitia.\n",
    "      Doloremque laboriosam, autem reprehenderit, est vitae quidem qui consequatur recusandae consectetur dignissimos earum amet facere? In odio velit animi at excepturi adipisci neque officiis! Repellat sapiente corrupti modi harum earum.\n",
    "      Et atque quibusdam nesciunt modi, dicta harum qui deleniti reprehenderit sed soluta est odit eum? Excepturi, sequi. Fugit, vitae laborum dolorum illo numquam, nulla minima accusamus odit et aspernatur perferendis!  \n",
    "      \n",
    " \n",
    "      \n",
    "      tenetur vitae quia ea consectetur quod facere? Sunt ab, vel minima consectetur expedita sint ipsam sequi temporibus beatae reprehenderit reiciendis hic voluptatem perspiciatis, exercitationem incidunt recusandae distinctio enim!\n",
    "       Lorem ipsum dolor sit amet, consectetur adipisicing elit. Excepturi dicta minima quod nesciunt accusantium magni eius magnam quis aperiam tempora! Eligendi ipsum culpa nobis ullam quidem consequuntur quis voluptas sed?\n",
    "      Corporis non expedita est cumque quas, libero magnam similique perspiciatis harum iste ullam iusto sequi dolorum esse cum ut sapiente voluptas nemo officia cupiditate nesciunt laborum asperiores? Officiis, eius labore.\n",
    "      Ipsa similique magni eos voluptatum officia commodi consequatur! Quam sint debitis odio. Error officia debitis dolorum deleniti deserunt quas voluptate, odit excepturi voluptatem quaerat quod. Ullam debitis quasi qui voluptate!\n",
    "      Vitae consectetur, deleniti asperiores, accusantium doloribus voluptates libero eveniet dicta labore voluptatibus numquam? Iusto cumque labore, eos molestias eligendi mollitia fugiat adipisci tempore nemo voluptas nesciunt sunt odio culpa officia?\n",
    "      Provident expedita aperiam eveniet sapiente! Itaque perferendis ratione dolor modi, adipisci neque numquam harum quaerat minus voluptas. Quidem aut atque optio facere, voluptates itaque consectetur porro, cumque sunt perspiciatis voluptas.\n",
    " Lorem ipsum dolor sit amet, consectetur adipisicing elit. Excepturi dicta minima quod nesciunt accusantium magni eius magnam quis aperiam tempora! Eligendi ipsum culpa nobis ullam quidem consequuntur quis voluptas sed?\n",
    "      Corporis non expedita est cumque quas, libero magnam similique perspiciatis harum iste ullam iusto sequi dolorum esse cum ut sapiente voluptas nemo officia cupiditate nesciunt laborum asperiores? Officiis, eius labore.\n",
    "      Ipsa similique magni eos voluptatum officia commodi consequatur! Quam sint debitis odio. Error officia debitis dolorum deleniti deserunt quas voluptate, odit excepturi voluptatem quaerat quod. Ullam debitis quasi qui voluptate!\n",
    "      Vitae consectetur, deleniti asperiores, accusantium doloribus voluptates libero eveniet dicta labore voluptatibus numquam? Iusto cumque labore, eos molestias eligendi mollitia fugiat adipisci tempore nemo voluptas nesciunt sunt odio culpa officia?\n",
    "      Provident expedita aperiam eveniet sapiente! Itaque perferendis ratione dolor modi, adipisci neque numquam harum quaerat minus voluptas. Quidem aut atque optio facere, voluptates itaque consectetur porro, cumque sunt perspiciatis voluptas.\n",
    " Lorem ipsum dolor sit amet, consectetur adipisicing elit. Excepturi dicta minima quod nesciunt accusantium magni eius magnam quis aperiam tempora! Eligendi ipsum culpa nobis ullam quidem consequuntur quis voluptas sed?\n",
    "      Corporis non expedita est cumque quas, libero magnam similique perspiciatis harum iste ullam iusto sequi dolorum esse cum ut sapiente voluptas nemo officia cupiditate nesciunt laborum asperiores? Officiis, eius labore.\n",
    "      Ipsa similique magni eos voluptatum officia commodi consequatur! Quam sint debitis odio. Error officia debitis dolorum deleniti deserunt quas voluptate, odit excepturi voluptatem quaerat quod. Ullam debitis quasi qui voluptate!\n",
    "      Vitae consectetur, deleniti asperiores, accusantium doloribus voluptates libero eveniet dicta labore voluptatibus numquam? Iusto cumque labore, eos molestias eligendi mollitia fugiat adipisci tempore nemo voluptas nesciunt sunt odio culpa officia?\n",
    "      Provident expedita aperiam eveniet sapiente! Itaque perferendis ratione dolor modi, adipisci neque numquam harum quaerat minus voluptas. Quidem aut atque optio facere, voluptates itaque consectetur porro, cumque sunt perspiciatis voluptas.\n",
    " Lorem ipsum dolor sit amet, consectetur adipisicing elit. Excepturi dicta minima quod nesciunt accusantium magni eius magnam quis aperiam tempora! Eligendi ipsum culpa nobis ullam quidem consequuntur quis voluptas sed?\n",
    "      Corporis non expedita est cumque quas, libero magnam similique perspiciatis harum iste ullam iusto sequi dolorum esse cum ut sapiente voluptas nemo officia cupiditate nesciunt laborum asperiores? Officiis, eius labore.\n",
    "      Ipsa similique magni eos voluptatum officia commodi consequatur! Quam sint debitis odio. Error officia debitis dolorum deleniti deserunt quas voluptate, odit excepturi voluptatem quaerat quod. Ullam debitis quasi qui voluptate!\n",
    "      Vitae consectetur, deleniti asperiores, accusantium doloribus voluptates libero eveniet dicta labore voluptatibus numquam? Iusto cumque labore, eos molestias eligendi mollitia fugiat adipisci tempore nemo voluptas nesciunt sunt odio culpa officia?\n",
    "      Provident expedita aperiam eveniet sapiente! Itaque perferendis ratione dolor modi, adipisci neque numquam harum quaerat minus voluptas. Quidem aut atque optio facere, voluptates itaque consectetur porro, cumque sunt perspiciatis voluptas.\n",
    " Lorem ipsum dolor sit amet, consectetur adipisicing elit. Excepturi dicta minima quod nesciunt accusantium magni eius magnam quis aperiam tempora! Eligendi ipsum culpa nobis ullam quidem consequuntur quis voluptas sed?\n",
    "      Corporis non expedita est cumque quas, libero magnam similique perspiciatis harum iste ullam iusto sequi dolorum esse cum ut sapiente voluptas nemo officia cupiditate nesciunt laborum asperiores? Officiis, eius labore.\n",
    "      Ipsa similique magni eos voluptatum officia commodi consequatur! Quam sint debitis odio. Error officia debitis dolorum deleniti deserunt quas voluptate, odit excepturi voluptatem quaerat quod. Ullam debitis quasi qui voluptate!\n",
    "      Vitae consectetur, deleniti asperiores, accusantium doloribus voluptates libero eveniet dicta labore voluptatibus numquam? Iusto cumque labore, eos molestias eligendi mollitia fugiat adipisci tempore nemo voluptas nesciunt sunt odio culpa officia?\n",
    "      Provident expedita aperiam eveniet sapiente! Itaque perferendis ratione dolor modi, adipisci neque numquam harum quaerat minus voluptas. Quidem aut atque optio facere, voluptates itaque consectetur porro, cumque sunt perspiciatis voluptas.\n",
    " Lorem ipsum dolor sit amet, consectetur adipisicing elit. Excepturi dicta minima quod nesciunt accusantium magni eius magnam quis aperiam tempora! Eligendi ipsum culpa nobis ullam quidem consequuntur quis voluptas sed?\n",
    "      Corporis non expedita est cumque quas, libero magnam similique perspiciatis harum iste ullam iusto sequi dolorum esse cum ut sapiente voluptas nemo officia cupiditate nesciunt laborum asperiores? Officiis, eius labore.\n",
    "      Ipsa similique magni eos voluptatum officia commodi consequatur! Quam sint debitis odio. Error officia debitis dolorum deleniti deserunt quas voluptate, odit excepturi voluptatem quaerat quod. Ullam debitis quasi qui voluptate!\n",
    "      Vitae consectetur, deleniti asperiores, accusantium doloribus voluptates libero eveniet dicta labore voluptatibus numquam? Iusto cumque labore, eos molestias eligendi mollitia fugiat adipisci tempore nemo voluptas nesciunt sunt odio culpa officia?\n",
    "      Provident expedita aperiam eveniet sapiente! Itaque perferendis ratione dolor modi, adipisci neque numquam harum quaerat minus voluptas. Quidem aut atque optio facere, voluptates itaque consectetur porro, cumque sunt perspiciatis voluptas.\n",
    " Lorem ipsum dolor sit amet, consectetur adipisicing elit. Excepturi dicta minima quod nesciunt accusantium magni eius magnam quis aperiam tempora! Eligendi ipsum culpa nobis ullam quidem consequuntur quis voluptas sed?\n",
    "      Corporis non expedita est cumque quas, libero magnam similique perspiciatis harum iste ullam iusto sequi dolorum esse cum ut sapiente voluptas nemo officia cupiditate nesciunt laborum asperiores? Officiis, eius labore.\n",
    "      Ipsa similique magni eos voluptatum officia commodi consequatur! Quam sint debitis odio. Error officia debitis dolorum deleniti deserunt quas voluptate, odit excepturi voluptatem quaerat quod. Ullam debitis quasi qui voluptate!\n",
    "      Vitae consectetur, deleniti asperiores, accusantium doloribus voluptates libero eveniet dicta labore voluptatibus numquam? Iusto cumque labore, eos molestias eligendi mollitia fugiat adipisci tempore nemo voluptas nesciunt sunt odio culpa officia?\n",
    "      Provident expedita aperiam eveniet sapiente! Itaque perferendis ratione dolor modi, adipisci neque numquam harum quaerat minus voluptas. Quidem aut atque optio facere, voluptates itaque consectetur porro, cumque sunt perspiciatis voluptas.\n",
    "\n",
    "      Lorem ipsum dolor sit amet, consectetur adipisicing elit. Excepturi dicta minima quod nesciunt accusantium magni eius magnam quis aperiam tempora! Eligendi ipsum culpa nobis ullam quidem consequuntur quis voluptas sed?\n",
    "      Corporis non expedita est cumque quas, libero magnam similique perspiciatis harum iste ullam iusto sequi dolorum esse cum ut sapiente voluptas nemo officia cupiditate nesciunt laborum asperiores? Officiis, eius labore.\n",
    "      Ipsa similique magni eos voluptatum officia commodi consequatur! Quam sint debitis odio. Error officia debitis dolorum deleniti deserunt quas voluptate, odit excepturi voluptatem quaerat quod. Ullam debitis quasi qui voluptate!\n",
    "      Vitae consectetur, deleniti asperiores, accusantium doloribus voluptates libero eveniet dicta labore voluptatibus numquam? Iusto cumque labore, eos molestias eligendi mollitia fugiat adipisci tempore nemo voluptas nesciunt sunt odio culpa officia?\n",
    "      Provident expedita aperiam eveniet sapiente! Itaque perferendis ratione dolor modi, adipisci neque numquam harum quaerat minus voluptas. Quidem aut atque optio facere, voluptates itaque consectetur porro, cumque sunt perspiciatis voluptas.\n",
    "\n",
    ")\n"
   ]
  },
  {
   "cell_type": "code",
   "execution_count": null,
   "id": "fc857c05-547e-4ef9-af16-c9a5f3c106ad",
   "metadata": {},
   "outputs": [],
   "source": []
  },
  {
   "cell_type": "code",
   "execution_count": null,
   "id": "90843841-c497-4f7e-b289-3c2ff4f3fae5",
   "metadata": {},
   "outputs": [],
   "source": []
  },
  {
   "cell_type": "code",
   "execution_count": null,
   "id": "33fc4fee-6fcc-47d5-a748-a162dbf77c40",
   "metadata": {},
   "outputs": [],
   "source": []
  },
  {
   "cell_type": "code",
   "execution_count": null,
   "id": "dc728f44-c875-464f-9b58-bb4380ac8263",
   "metadata": {},
   "outputs": [],
   "source": []
  },
  {
   "cell_type": "code",
   "execution_count": null,
   "id": "52a004fc-9a46-4b04-bb27-7ba658db2ec2",
   "metadata": {},
   "outputs": [],
   "source": []
  },
  {
   "cell_type": "code",
   "execution_count": null,
   "id": "51fbc1f8-30f9-4931-bc7d-074fc66bc308",
   "metadata": {},
   "outputs": [],
   "source": []
  },
  {
   "cell_type": "code",
   "execution_count": null,
   "id": "74983f28-94f3-4fc8-93f6-b2837c61f493",
   "metadata": {},
   "outputs": [],
   "source": []
  },
  {
   "cell_type": "code",
   "execution_count": null,
   "id": "bcc2fe08-3518-41b0-94f1-eba1dbc8df2d",
   "metadata": {},
   "outputs": [],
   "source": []
  },
  {
   "cell_type": "code",
   "execution_count": null,
   "id": "8f509a08-b324-4e2a-92ff-8a5352dc7334",
   "metadata": {},
   "outputs": [],
   "source": []
  },
  {
   "cell_type": "code",
   "execution_count": null,
   "id": "9f484dde-89ae-4d73-9fa9-2ed8d03c72b0",
   "metadata": {},
   "outputs": [],
   "source": []
  },
  {
   "cell_type": "code",
   "execution_count": null,
   "id": "7bdfa0a9-1830-4f92-8c9e-f9babf1dc88d",
   "metadata": {},
   "outputs": [],
   "source": []
  },
  {
   "cell_type": "code",
   "execution_count": null,
   "id": "fa7f9b03-70c2-4065-8843-83ab36c3027a",
   "metadata": {},
   "outputs": [],
   "source": []
  },
  {
   "cell_type": "code",
   "execution_count": null,
   "id": "da4b177d-e14f-4ecb-a702-146b95f94526",
   "metadata": {},
   "outputs": [],
   "source": []
  },
  {
   "cell_type": "code",
   "execution_count": null,
   "id": "b0f1d271-465a-4e44-a15b-44ce18761cf4",
   "metadata": {},
   "outputs": [],
   "source": []
  },
  {
   "cell_type": "code",
   "execution_count": null,
   "id": "f487b217-e471-435e-9490-bd881f11d9fc",
   "metadata": {},
   "outputs": [],
   "source": []
  },
  {
   "cell_type": "code",
   "execution_count": null,
   "id": "85bcf74c-1cb6-43b8-8222-35c020da2aac",
   "metadata": {},
   "outputs": [],
   "source": []
  },
  {
   "cell_type": "code",
   "execution_count": null,
   "id": "c14de2dc-a918-43ce-9a3d-04e8e676d760",
   "metadata": {},
   "outputs": [],
   "source": []
  },
  {
   "cell_type": "code",
   "execution_count": null,
   "id": "fb103f7d-c792-4298-9a51-1a3a0b404e1c",
   "metadata": {},
   "outputs": [],
   "source": []
  },
  {
   "cell_type": "code",
   "execution_count": null,
   "id": "a9a2e866-6d87-43d0-828b-aaa1dbfc279e",
   "metadata": {},
   "outputs": [],
   "source": []
  },
  {
   "cell_type": "code",
   "execution_count": null,
   "id": "1360f3c3-2749-447e-9b2a-3e0aeeefa420",
   "metadata": {},
   "outputs": [],
   "source": []
  },
  {
   "cell_type": "code",
   "execution_count": null,
   "id": "46b5db20-96e7-4c6a-ab72-bb754baa2ca3",
   "metadata": {},
   "outputs": [],
   "source": []
  },
  {
   "cell_type": "code",
   "execution_count": null,
   "id": "07255695-85e9-44d3-8a63-bc3799df4cb9",
   "metadata": {},
   "outputs": [],
   "source": []
  },
  {
   "cell_type": "code",
   "execution_count": null,
   "id": "3fe339c5-d3a3-4b8a-a229-258bdb0bc46e",
   "metadata": {},
   "outputs": [],
   "source": []
  },
  {
   "cell_type": "code",
   "execution_count": null,
   "id": "674d41eb-c464-4519-8e7d-ca03c063e15a",
   "metadata": {},
   "outputs": [],
   "source": []
  },
  {
   "cell_type": "markdown",
   "id": "a5d74985-bf83-48ce-a53b-5d5b7fbbaebb",
   "metadata": {},
   "source": [
    "# References  \n",
    "\n",
    "[1](#ref1)　E.Balangurusamy, *Programming with JAVA: A Primer*, 3rd edition, (2007)  \n",
    "[2] 　Reto Meier, *Professional Android 4 Application Development*, 3rd edition, (2012"
   ]
  },
  {
   "cell_type": "code",
   "execution_count": 1,
   "id": "124afa5e-f55c-49e5-b6cc-638e84e6a0ab",
   "metadata": {},
   "outputs": [
    {
     "name": "stdin",
     "output_type": "stream",
     "text": [
      " 10 30\n"
     ]
    }
   ],
   "source": [
    "a = input().split()"
   ]
  },
  {
   "cell_type": "code",
   "execution_count": 2,
   "id": "355eb1bc-775a-4b46-a090-119a760a47d8",
   "metadata": {},
   "outputs": [
    {
     "data": {
      "text/plain": [
       "['10', '30']"
      ]
     },
     "execution_count": 2,
     "metadata": {},
     "output_type": "execute_result"
    }
   ],
   "source": [
    "a"
   ]
  },
  {
   "cell_type": "code",
   "execution_count": 3,
   "id": "deffeb6b-efd7-45e6-a9cc-6cca0027993c",
   "metadata": {},
   "outputs": [
    {
     "name": "stdin",
     "output_type": "stream",
     "text": [
      " a 12\n"
     ]
    }
   ],
   "source": [
    "a = map(int, input().split())"
   ]
  },
  {
   "cell_type": "code",
   "execution_count": 4,
   "id": "f542878e-1c2f-462b-8e9e-6d012941a18d",
   "metadata": {},
   "outputs": [
    {
     "data": {
      "text/plain": [
       "<map at 0x7f9b603d2df0>"
      ]
     },
     "execution_count": 4,
     "metadata": {},
     "output_type": "execute_result"
    }
   ],
   "source": [
    "a"
   ]
  },
  {
   "cell_type": "code",
   "execution_count": null,
   "id": "42e46c98-3e46-42c2-82f7-aae09748b059",
   "metadata": {},
   "outputs": [],
   "source": [
    "for "
   ]
  }
 ],
 "metadata": {
  "kernelspec": {
   "display_name": "myenv",
   "language": "python",
   "name": "myenv"
  },
  "language_info": {
   "codemirror_mode": {
    "name": "ipython",
    "version": 3
   },
   "file_extension": ".py",
   "mimetype": "text/x-python",
   "name": "python",
   "nbconvert_exporter": "python",
   "pygments_lexer": "ipython3",
   "version": "3.9.13"
  }
 },
 "nbformat": 4,
 "nbformat_minor": 5
}
